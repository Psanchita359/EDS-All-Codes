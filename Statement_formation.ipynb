{
  "nbformat": 4,
  "nbformat_minor": 0,
  "metadata": {
    "colab": {
      "provenance": [],
      "gpuType": "T4"
    },
    "kernelspec": {
      "name": "python3",
      "display_name": "Python 3"
    },
    "language_info": {
      "name": "python"
    },
    "accelerator": "GPU"
  },
  "cells": [
    {
      "cell_type": "code",
      "execution_count": null,
      "metadata": {
        "colab": {
          "base_uri": "https://localhost:8080/"
        },
        "id": "NOFBzUQPoIs9",
        "outputId": "731dd85b-edf8-4b12-a109-88f7ee79d25b"
      },
      "outputs": [
        {
          "output_type": "stream",
          "name": "stdout",
          "text": [
            "[['Manufacturer', 'Model', 'Sales_in_thousands', 'Vehicle_type', 'Price_in_thousands', 'Engine_size', 'Horsepower', 'Wheelbase', 'Width', 'Length', 'Curb_weight', 'Fuel_capacity', 'Fuel_efficiency', 'Latest_Launch'], ['Acura', 'Integra', '17', 'Passenger', '21.5', '1.8', '140', '101.2', '67.3', '172.4', '2.639', '13.2', '28', '2/2/2012'], ['Acura', 'TL', '39', 'Passenger', '28.4', '3.2', '225', '108.1', '70.3', '192.9', '3.517', '17.2', '25', '6/3/2011'], ['Audi', 'A8', '1', 'Passenger', '62', '4.2', '310', '113', '74', '198.2', '3.902', '23.7', '21', '2/27/2012'], ['BMW', '323i', '20', 'Passenger', '26.99', '2.5', '170', '107.3', '68.4', '176', '3.179', '16.6', '26', '6/28/2011'], ['Buick', 'LeSabre', '83', 'Passenger', '27.885', '3.8', '205', '112.2', '73.5', '200', '3.591', '17.5', '25', '7/23/2011'], ['Cadillac', 'DeVille', '64', 'Passenger', '39.895', '4.6', '275', '115.3', '74.5', '207.2', '3.978', '18.5', '22', '2/23/2012'], ['Chevrolet', 'Cavalier', '146', 'Passenger', '13.26', '2.2', '115', '104.1', '67.9', '180.9', '2.676', '14.3', '27', '8/17/2011'], ['Chevrolet', 'Malibu', '135', 'Passenger', '16.535', '3.1', '170', '107', '69.4', '190.4', '3.051', '15', '25', '3/19/2012'], ['Chevrolet', 'Metro', '22', 'Passenger', '9.235', '1', '55', '93.1', '62.6', '149.4', '1.895', '10.3', '45', '4/13/2012'], ['Chevrolet', 'Impala', '108', 'Passenger', '18.89', '3.4', '180', '110.5', '73', '200', '3.389', '17', '27', '6/18/2011'], ['Chrysler', 'Sebring Coupe', '8', 'Passenger', '19.84', '2.5', '163', '103.7', '69.7', '190.9', '2.967', '15.9', '24', '1/16/2012'], ['Chrysler', 'LHS', '13', 'Passenger', '28.34', '3.5', '253', '113', '74.4', '207.7', '3.564', '17', '23', '5/8/2012'], ['Chrysler', '300M', '31', 'Passenger', '29.185', '3.5', '253', '113', '74.4', '197.8', '3.567', '17', '23', '2/10/2012'], ['Dodge', 'Neon', '76', 'Passenger', '12.64', '2', '132', '105', '74.4', '174.4', '2.567', '12.5', '29', '12/12/2011'], ['Dodge', 'Ram Van', '31', 'Car', '18.575', '3.9', '175', '127.2', '78.8', '208.5', '4.298', '32', '16', '7/26/2012'], ['Dodge', 'Dakota', '111', 'Car', '16.98', '2.5', '120', '131', '71.5', '215', '3.557', '22', '19', '11/25/2011'], ['Dodge', 'Durango', '101', 'Car', '26.31', '5.2', '230', '115.7', '71.7', '193.5', '4.394', '25', '17', '6/27/2012'], ['Dodge', 'Caravan', '182', 'Car', '19.565', '2.4', '150', '113.3', '76.8', '186.3', '3.533', '20', '24', '9/1/2011'], ['Ford', 'Escort', '70', 'Passenger', '12.07', '2', '110', '98.4', '67', '174.7', '2.468', '12.7', '30', '3/31/2012'], ['Ford', 'Mustang', '113', 'Passenger', '21.56', '3.8', '190', '101.3', '73.1', '183.2', '3.203', '15.7', '24', '1/31/2012'], ['Ford', 'Contour', '35', 'Passenger', '17.035', '2.5', '170', '106.5', '69.1', '184.6', '2.769', '15', '25', '8/20/2012'], ['Ford', 'Taurus', '246', 'Passenger', '17.885', '3', '155', '108.5', '73', '197.6', '3.368', '16', '24', '12/20/2011'], ['Ford', 'Ranger', '221', 'Car', '12.05', '2.5', '119', '117.5', '69.4', '200.7', '3.086', '20', '23', '1/14/2012'], ['Ford', 'F-Series', '541', 'Car', '26.935', '4.6', '220', '138.5', '79.1', '224.5', '4.241', '25.1', '18', '8/16/2012'], ['Honda', 'Civic', '200', 'Passenger', '12.885', '1.6', '106', '103.2', '67.1', '175.1', '2.339', '11.9', '32', '10/21/2011'], ['Honda', 'Accord', '231', 'Passenger', '15.35', '2.3', '135', '106.9', '70.3', '188.8', '2.932', '17.1', '27', '5/20/2012'], ['Honda', 'CR-V', '73', 'Car', '20.55', '2', '146', '103.2', '68.9', '177.6', '3.219', '15.3', '24', '3/21/2012'], ['Honda', 'Passport', '13', 'Car', '26.6', '3.2', '205', '106.4', '70.4', '178.2', '3.857', '21.1', '19', '10/9/2012'], ['Honda', 'Odyssey', '76', 'Car', '26', '3.5', '210', '118.1', '75.6', '201.2', '4.288', '20', '23', '2/8/2012']]\n"
          ]
        }
      ],
      "source": [
        "#Using dataset2 for statement formation\n",
        "file=open('/content/car_data.csv','r')\n",
        "info_dataset=[]\n",
        "while True:\n",
        "    data=file.readline()\n",
        "    if data:\n",
        "        info_dataset.append(data.replace(\"\\n\", \"\").split(','))\n",
        "    else:\n",
        "        break\n",
        "print(info_dataset)\n",
        "#Output :\n",
        "#[['Manufacturer', 'Model', 'Sales_in_thousands', 'Vehicle_type', 'Price_in_thousands', 'Engine_size', 'Horsepower', 'Wheelbase', 'Width', 'Length', 'Curb_weight', 'Fuel_capacity', 'Fuel_efficiency', 'Latest_Launch'],\n",
        "#['Acura', 'Integra', '17', 'Passenger', '21.5', '1.8', '140', '101.2', '67.3', '172.4', '2.639', '13.2', '28', '2/2/2012'],\n",
        "#['Acura', 'TL', '39', 'Passenger', '28.4', '3.2', '225', '108.1', '70.3', '192.9', '3.517', '17.2', '25', '6/3/2011'],\n",
        "#['Audi', 'A8', '1', 'Passenger', '62', '4.2', '310', '113', '74', '198.2', '3.902', '23.7', '21', '2/27/2012'],\n",
        "#['BMW', '323i', '20', 'Passenger', '26.99', '2.5', '170', '107.3', '68.4', '176', '3.179', '16.6', '26', '6/28/2011'],\n",
        "#['Buick', 'LeSabre', '83', 'Passenger', '27.885', '3.8', '205', '112.2', '73.5', '200', '3.591', '17.5', '25', '7/23/2011'],\n",
        "#['Cadillac', 'DeVille', '64', 'Passenger', '39.895', '4.6', '275', '115.3', '74.5', '207.2', '3.978', '18.5', '22', '2/23/2012'],\n",
        "#['Chevrolet', 'Cavalier', '146', 'Passenger', '13.26', '2.2', '115', '104.1', '67.9', '180.9', '2.676', '14.3', '27', '8/17/2011'],\n",
        "#['Chevrolet', 'Malibu', '135', 'Passenger', '16.535', '3.1', '170', '107', '69.4', '190.4', '3.051', '15', '25', '3/19/2012'],\n",
        "#['Chevrolet', 'Metro', '22', 'Passenger', '9.235', '1', '55', '93.1', '62.6', '149.4', '1.895', '10.3', '45', '4/13/2012'],\n",
        "#['Chevrolet', 'Impala', '108', 'Passenger', '18.89', '3.4', '180', '110.5', '73', '200', '3.389', '17', '27', '6/18/2011'],\n",
        "#['Chrysler', 'Sebring Coupe', '8', 'Passenger', '19.84', '2.5', '163', '103.7', '69.7', '190.9', '2.967', '15.9', '24', '1/16/2012'],\n",
        "#['Chrysler', 'LHS', '13', 'Passenger', '28.34', '3.5', '253', '113', '74.4', '207.7', '3.564', '17', '23', '5/8/2012'],\n",
        "#['Chrysler', '300M', '31', 'Passenger', '29.185', '3.5', '253', '113', '74.4', '197.8', '3.567', '17', '23', '2/10/2012'],\n",
        "#['Dodge', 'Neon', '76', 'Passenger', '12.64', '2', '132', '105', '74.4', '174.4', '2.567', '12.5', '29', '12/12/2011'],\n",
        "#['Dodge', 'Ram Van', '31', 'Car', '18.575', '3.9', '175', '127.2', '78.8', '208.5', '4.298', '32', '16', '7/26/2012'],\n",
        "#['Dodge', 'Dakota', '111', 'Car', '16.98', '2.5', '120', '131', '71.5', '215', '3.557', '22', '19', '11/25/2011'],\n",
        "#['Dodge', 'Durango', '101', 'Car', '26.31', '5.2', '230', '115.7', '71.7', '193.5', '4.394', '25', '17', '6/27/2012'],\n",
        "#['Dodge', 'Caravan', '182', 'Car', '19.565', '2.4', '150', '113.3', '76.8', '186.3', '3.533', '20', '24', '9/1/2011'],\n",
        "#['Ford', 'Escort', '70', 'Passenger', '12.07', '2', '110', '98.4', '67', '174.7', '2.468', '12.7', '30', '3/31/2012'],\n",
        "#['Ford', 'Mustang', '113', 'Passenger', '21.56', '3.8', '190', '101.3', '73.1', '183.2', '3.203', '15.7', '24', '1/31/2012'],\n",
        "#['Ford', 'Contour', '35', 'Passenger', '17.035', '2.5', '170', '106.5', '69.1', '184.6', '2.769', '15', '25', '8/20/2012'],\n",
        "#['Ford', 'Taurus', '246', 'Passenger', '17.885', '3', '155', '108.5', '73', '197.6', '3.368', '16', '24', '12/20/2011'],\n",
        "#['Ford', 'Ranger', '221', 'Car', '12.05', '2.5', '119', '117.5', '69.4', '200.7', '3.086', '20', '23', '1/14/2012'],\n",
        "#['Ford', 'F-Series', '541', 'Car', '26.935', '4.6', '220', '138.5', '79.1', '224.5', '4.241', '25.1', '18', '8/16/2012'],\n",
        "#['Honda', 'Civic', '200', 'Passenger', '12.885', '1.6', '106', '103.2', '67.1', '175.1', '2.339', '11.9', '32', '10/21/2011'],\n",
        "#['Honda', 'Accord', '231', 'Passenger', '15.35', '2.3', '135', '106.9', '70.3', '188.8', '2.932', '17.1', '27', '5/20/2012'],\n",
        "#['Honda', 'CR-V', '73', 'Car', '20.55', '2', '146', '103.2', '68.9', '177.6', '3.219', '15.3', '24', '3/21/2012'],\n",
        "#['Honda', 'Passport', '13', 'Car', '26.6', '3.2', '205', '106.4', '70.4', '178.2', '3.857', '21.1', '19', '10/9/2012'],\n",
        "#['Honda', 'Odyssey', '76', 'Car', '26', '3.5', '210', '118.1', '75.6', '201.2', '4.288', '20', '23', '2/8/2012']]"
      ]
    },
    {
      "cell_type": "code",
      "source": [
        "# Question 1: How many unique manufacturers are there?\n",
        "unique_Manufacturer = set(row['Manufacturer'] for row in data)\n",
        "print(\"Number of unique manufacturers:\", len(unique_Manufacturer))"
      ],
      "metadata": {
        "colab": {
          "base_uri": "https://localhost:8080/"
        },
        "id": "e9vH4Jlxos4J",
        "outputId": "7ad22eed-0980-43ba-8d33-f23a4bd7be7e"
      },
      "execution_count": null,
      "outputs": [
        {
          "output_type": "stream",
          "name": "stdout",
          "text": [
            "Number of unique manufacturers: 10\n"
          ]
        }
      ]
    },
    {
      "cell_type": "code",
      "source": [
        "# Question 2: What is the total sales in thousands for all vehicles?\n",
        "total_sales = sum(float(row['Sales_in_thousands']) for row in data)\n",
        "print(\"Total sales in thousands:\", total_sales)"
      ],
      "metadata": {
        "colab": {
          "base_uri": "https://localhost:8080/"
        },
        "id": "lgYJetkrpF2q",
        "outputId": "3f2e9cb9-a45a-412d-c5bb-71d6f4b58b15"
      },
      "execution_count": null,
      "outputs": [
        {
          "output_type": "stream",
          "name": "stdout",
          "text": [
            "Total sales in thousands: 3007.0\n"
          ]
        }
      ]
    },
    {
      "cell_type": "code",
      "source": [
        "# Question 3: What is the average fuel efficiency of vehicles?\n",
        "Fuel_efficiency = [float(row['Fuel_efficiency']) for row in data]\n",
        "average_fuel_efficiency = sum(Fuel_efficiency) / len(Fuel_efficiency)\n",
        "print(\"Average fuel efficiency:\", average_fuel_efficiency)"
      ],
      "metadata": {
        "colab": {
          "base_uri": "https://localhost:8080/"
        },
        "id": "IppnazQBpWej",
        "outputId": "51d4c3ac-7d30-416e-fb1f-7f8cca20c8e8"
      },
      "execution_count": null,
      "outputs": [
        {
          "output_type": "stream",
          "name": "stdout",
          "text": [
            "Average fuel efficiency: 24.655172413793103\n"
          ]
        }
      ]
    },
    {
      "cell_type": "code",
      "source": [
        "# Question 4: How many different vehicle types are there?\n",
        "unique_vehicle_types = set(row['Vehicle_type'] for row in data)\n",
        "print(\"Number of different vehicle types:\", len(unique_vehicle_types))"
      ],
      "metadata": {
        "colab": {
          "base_uri": "https://localhost:8080/"
        },
        "id": "2fl1tctdppeg",
        "outputId": "ad001491-d8d4-42df-ce0d-1563a92c6ded"
      },
      "execution_count": null,
      "outputs": [
        {
          "output_type": "stream",
          "name": "stdout",
          "text": [
            "Number of different vehicle types: 2\n"
          ]
        }
      ]
    },
    {
      "cell_type": "code",
      "source": [
        "# Question 5: What is the maximum horsepower among all vehicles?\n",
        "max_horsepower = max(float(row['Horsepower']) for row in data)\n",
        "print(\"Maximum horsepower:\", max_horsepower)"
      ],
      "metadata": {
        "colab": {
          "base_uri": "https://localhost:8080/"
        },
        "id": "Wjz8GSfxp6e3",
        "outputId": "c94a2fc6-f60f-478b-915f-de5d61c50281"
      },
      "execution_count": null,
      "outputs": [
        {
          "output_type": "stream",
          "name": "stdout",
          "text": [
            "Maximum horsepower: 310.0\n"
          ]
        }
      ]
    },
    {
      "cell_type": "code",
      "source": [
        "# Question 6: Which vehicle has the highest price in thousands?\n",
        "max_price_vehicle = max(data, key=lambda x: float(x['Price_in_thousands']))\n",
        "print(\"Vehicle with the highest price:\", max_price_vehicle['Model'])"
      ],
      "metadata": {
        "colab": {
          "base_uri": "https://localhost:8080/"
        },
        "id": "vkEI_XwIqC1y",
        "outputId": "3c82d322-dc46-4d31-93c7-2f358f255cb1"
      },
      "execution_count": null,
      "outputs": [
        {
          "output_type": "stream",
          "name": "stdout",
          "text": [
            "Vehicle with the highest price: A8\n"
          ]
        }
      ]
    },
    {
      "cell_type": "code",
      "source": [
        "# Question 7: What is the average length of vehicles?\n",
        "Length = [float(row['Length']) for row in data]\n",
        "average_length = sum(Length) / len(Length)\n",
        "print(\"Average vehicle length:\", average_length)"
      ],
      "metadata": {
        "colab": {
          "base_uri": "https://localhost:8080/"
        },
        "id": "1nQabkVeqQPA",
        "outputId": "8467f263-26df-4020-aabf-6f137f9378fc"
      },
      "execution_count": null,
      "outputs": [
        {
          "output_type": "stream",
          "name": "stdout",
          "text": [
            "Average vehicle length: 190.61034482758623\n"
          ]
        }
      ]
    },
    {
      "cell_type": "code",
      "source": [
        "# Question 8: Which manufacturer has the most fuel capacity across all their vehicles?\n",
        "fuel_capacities_by_manufacturer = {}\n",
        "for row in data:\n",
        "    manufacturer = row['Manufacturer']\n",
        "    fuel_capacity = float(row['Fuel_capacity'])\n",
        "    if manufacturer in fuel_capacities_by_manufacturer:\n",
        "        fuel_capacities_by_manufacturer[manufacturer] += fuel_capacity\n",
        "    else:\n",
        "        fuel_capacities_by_manufacturer[manufacturer] = fuel_capacity\n",
        "\n",
        "manufacturer_with_most_fuel_capacity = max(fuel_capacities_by_manufacturer, key=fuel_capacities_by_manufacturer.get)\n",
        "print(\"Manufacturer with the most fuel capacity:\", manufacturer_with_most_fuel_capacity)"
      ],
      "metadata": {
        "colab": {
          "base_uri": "https://localhost:8080/"
        },
        "id": "RjVDWyKjyYNN",
        "outputId": "8d16afc0-d090-436c-8f8f-da5af027ed9b"
      },
      "execution_count": null,
      "outputs": [
        {
          "output_type": "stream",
          "name": "stdout",
          "text": [
            "Manufacturer with the most fuel capacity: Dodge\n"
          ]
        }
      ]
    },
    {
      "cell_type": "code",
      "source": [
        "# Question 9 : What are the top 5 manufacturers in terms of sales?\n",
        "sales_by_manufacturer = {}\n",
        "for row in data:\n",
        "    manufacturer = row['Manufacturer']\n",
        "    sales = float(row['Sales_in_thousands'])\n",
        "    if manufacturer in sales_by_manufacturer:\n",
        "        sales_by_manufacturer[manufacturer] += sales\n",
        "    else:\n",
        "        sales_by_manufacturer[manufacturer] = sales\n",
        "\n",
        "top_manufacturers = sorted(sales_by_manufacturer, key=sales_by_manufacturer.get, reverse=True)[:5]\n",
        "print(\"Top 5 manufacturers by sales:\")\n",
        "for manufacturer in top_manufacturers:\n",
        "    print(manufacturer)"
      ],
      "metadata": {
        "colab": {
          "base_uri": "https://localhost:8080/"
        },
        "id": "Vspl53HFy0Gy",
        "outputId": "17d93c23-7f3f-4b15-e5a9-67a86696b332"
      },
      "execution_count": null,
      "outputs": [
        {
          "output_type": "stream",
          "name": "stdout",
          "text": [
            "Top 5 manufacturers by sales:\n",
            "Ford\n",
            "Honda\n",
            "Dodge\n",
            "Chevrolet\n",
            "Buick\n"
          ]
        }
      ]
    },
    {
      "cell_type": "code",
      "source": [
        "# Question 10 : Which vehicle models have the highest sales?\n",
        "data.sort(key=lambda x: float(x['Sales_in_thousands']), reverse=True)\n",
        "top_models = [row['Model'] for row in data[:5]]\n",
        "print(\"Top 5 vehicle models by sales:\")\n",
        "for model in top_models:\n",
        "    print(model)"
      ],
      "metadata": {
        "colab": {
          "base_uri": "https://localhost:8080/"
        },
        "id": "jx2oRMDg0USg",
        "outputId": "fa32f44e-ed7a-48c1-af20-df13a84e2e72"
      },
      "execution_count": null,
      "outputs": [
        {
          "output_type": "stream",
          "name": "stdout",
          "text": [
            "Top 5 vehicle models by sales:\n",
            "F-Series\n",
            "Taurus\n",
            "Accord\n",
            "Ranger\n",
            "Civic\n"
          ]
        }
      ]
    }
  ]
}