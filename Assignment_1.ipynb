{
  "cells": [
    {
      "cell_type": "markdown",
      "metadata": {
        "id": "lWPlAFcIPECi"
      },
      "source": [
        "# Lab Assignment:\n",
        "Take/Prepare any text files for any real life application. For Ex. “Stud.txt”, “Placement.csv” and “Result.csv” files for result Analysis. Combine into “StudentDetails.csv”. Perform all statistical analysis (Average, Max, Min, Count, Sum, Percentage) on it"
      ]
    },
    {
      "cell_type": "markdown",
      "metadata": {
        "id": "eGSrGydMPECp"
      },
      "source": [
        "# 1.  Read Student Info File"
      ]
    },
    {
      "cell_type": "code",
      "execution_count": null,
      "metadata": {
        "colab": {
          "base_uri": "https://localhost:8080/"
        },
        "id": "AFLTXHP5PECq",
        "outputId": "b27bac8d-e626-44b2-a854-bc1547c095f4"
      },
      "outputs": [
        {
          "output_type": "stream",
          "name": "stdout",
          "text": [
            "[['Roll No', 'name', 'Gender', 'DOB'], ['1', 'John', 'Male', '05-04-1988'], ['2', 'Mayur', 'Male', '04-05-1987'], ['3', 'Mangesh', 'Male', '25-05-1989'], ['4', 'Jessica', 'Female', '12-08-1990'], ['5', 'Jennifer', 'Female', '02-09-1989'], ['6', 'Ramesh', 'Male', '03-09-1989'], ['7', 'Suresh', 'Male', '04-09-1990'], ['8', 'Ganesh', 'Male', '05-10-1989'], ['9', 'Komal', 'Female', '06-09-1989'], ['10', 'Mayuri', 'Female', '07-02-1988']]\n"
          ]
        }
      ],
      "source": [
        "# Read File\n",
        "file=open('stud_info.csv','r')\n",
        "info_dataset=[]\n",
        "while True:\n",
        "    data=file.readline()\n",
        "    if data:\n",
        "        info_dataset.append(data.replace(\"\\n\", \"\").split(','))\n",
        "    else:\n",
        "        break\n",
        "print(info_dataset)"
      ]
    },
    {
      "cell_type": "code",
      "execution_count": null,
      "metadata": {
        "id": "K9qixnWiPECt"
      },
      "outputs": [],
      "source": [
        "RollNo=[]\n",
        "Name=[]\n",
        "Gender=[]\n",
        "DOB=[]"
      ]
    },
    {
      "cell_type": "code",
      "execution_count": null,
      "metadata": {
        "id": "56yRJ3rMPECv"
      },
      "outputs": [],
      "source": [
        "for row in info_dataset[1:]:\n",
        "    RollNo.append(row[0])\n",
        "    Name.append(row[1])\n",
        "    Gender.append(row[2])\n",
        "    DOB.append(row[3])"
      ]
    },
    {
      "cell_type": "code",
      "execution_count": null,
      "metadata": {
        "colab": {
          "base_uri": "https://localhost:8080/"
        },
        "id": "Ki0MNff2PECw",
        "outputId": "744843e7-9de1-4b9d-f7fd-54e06cc248ca"
      },
      "outputs": [
        {
          "output_type": "stream",
          "name": "stdout",
          "text": [
            "['1', '2', '3', '4', '5', '6', '7', '8', '9', '10']\n",
            "['John', 'Mayur', 'Mangesh', 'Jessica', 'Jennifer', 'Ramesh', 'Suresh', 'Ganesh', 'Komal', 'Mayuri']\n",
            "['Male', 'Male', 'Male', 'Female', 'Female', 'Male', 'Male', 'Male', 'Female', 'Female']\n",
            "['05-04-1988', '04-05-1987', '25-05-1989', '12-08-1990', '02-09-1989', '03-09-1989', '04-09-1990', '05-10-1989', '06-09-1989', '07-02-1988']\n"
          ]
        }
      ],
      "source": [
        "print(RollNo)\n",
        "print(Name)\n",
        "print(Gender)\n",
        "print(DOB)"
      ]
    },
    {
      "cell_type": "markdown",
      "metadata": {
        "id": "9ITvh9cdPECy"
      },
      "source": [
        "# 2. Read Student Marks"
      ]
    },
    {
      "cell_type": "code",
      "execution_count": null,
      "metadata": {
        "colab": {
          "base_uri": "https://localhost:8080/"
        },
        "id": "cI-m66MPPECz",
        "outputId": "136bff53-bf9b-400b-e58e-037b896ab125"
      },
      "outputs": [
        {
          "output_type": "stream",
          "name": "stdout",
          "text": [
            "[['Roll', 'Maths', 'Physics', 'Chemistry', 'Total', 'Percentage'], ['1', '55', '45', '56', '156', '52.00'], ['2', '75', '55', '55', '185', '61.67'], ['3', '25', '54', '89', '168', '56.00'], ['4', '78', '55', '86', '219', '73.00'], ['5', '58', '96', '78', '232', '77.33'], ['6', '88', '78', '58', '224', '74.67'], ['7', '56', '89', '69', '214', '71.33'], ['8', '54', '55', '88', '197', '65.67'], ['9', '46', '66', '65', '177', '59.00'], ['10', '89', '87', '54', '230', '76.67']]\n"
          ]
        }
      ],
      "source": [
        "# Read Student Marks\n",
        "file=open('student_marks.csv','r')\n",
        "marks_dataset=[]\n",
        "while True:\n",
        "    data=file.readline()\n",
        "    if data:\n",
        "        marks_dataset.append(data.replace(\"\\n\", \"\").split(','))\n",
        "    else:\n",
        "        break\n",
        "print(marks_dataset)"
      ]
    },
    {
      "cell_type": "code",
      "execution_count": null,
      "metadata": {
        "id": "lFELjkXkPEC0"
      },
      "outputs": [],
      "source": [
        "Maths=[]\n",
        "Physics=[]\n",
        "Chemistry=[]\n",
        "Total=[]\n",
        "Percentage=[]"
      ]
    },
    {
      "cell_type": "code",
      "execution_count": null,
      "metadata": {
        "id": "Tj-bu1_nPEC1"
      },
      "outputs": [],
      "source": [
        "for row in marks_dataset[1:]:\n",
        "    Maths.append(row[1])\n",
        "    Physics.append(row[2])\n",
        "    Chemistry.append(row[3])\n",
        "    Total.append(row[4])\n",
        "    Percentage.append(row[5])"
      ]
    },
    {
      "cell_type": "code",
      "execution_count": null,
      "metadata": {
        "colab": {
          "base_uri": "https://localhost:8080/"
        },
        "id": "Cvd_BOTgPEC2",
        "outputId": "928d32ff-9862-459e-c9d1-4c78baea3986"
      },
      "outputs": [
        {
          "output_type": "stream",
          "name": "stdout",
          "text": [
            "['55', '75', '25', '78', '58', '88', '56', '54', '46', '89']\n",
            "['45', '55', '54', '55', '96', '78', '89', '55', '66', '87']\n",
            "['56', '55', '89', '86', '78', '58', '69', '88', '65', '54']\n",
            "['156', '185', '168', '219', '232', '224', '214', '197', '177', '230']\n",
            "['52.00', '61.67', '56.00', '73.00', '77.33', '74.67', '71.33', '65.67', '59.00', '76.67']\n"
          ]
        }
      ],
      "source": [
        "print(Maths)\n",
        "print(Physics)\n",
        "print(Chemistry)\n",
        "print(Total)\n",
        "print(Percentage)"
      ]
    },
    {
      "cell_type": "markdown",
      "metadata": {
        "id": "uo4wgoOnPEC4"
      },
      "source": [
        "# 3. Read Student Placement File"
      ]
    },
    {
      "cell_type": "code",
      "execution_count": null,
      "metadata": {
        "colab": {
          "base_uri": "https://localhost:8080/"
        },
        "id": "9WrgpKHmPEC5",
        "outputId": "2da123da-e629-4828-e277-1960e9df9450"
      },
      "outputs": [
        {
          "output_type": "stream",
          "name": "stdout",
          "text": [
            "[['Roll No', 'Company', 'JobRole', 'Package'], ['1', 'Infosys', 'Data Analyst', '10.2'], ['2', 'TCS', 'Java Developer', '9.6'], ['3', 'TCS', 'Data Scientist', '12.60'], ['4', 'Infosys', 'Data Analyst', '10.2'], ['5', 'Oracle', 'Java Developer', '9.6'], ['6', 'Oracle', 'Data Scientist', '12.60'], ['7', 'TCS', 'Tester', '6.50'], ['8', 'Infosys', 'Tester', '6.51'], ['9', 'Mindtree', 'Database Admin', '8.30'], ['10', 'Mindtree', 'Database Admin', '8.31']]\n"
          ]
        }
      ],
      "source": [
        "# Read Student Marks\n",
        "file=open('stud_placement.csv','r')\n",
        "placement_dataset=[]\n",
        "while True:\n",
        "    data=file.readline()\n",
        "    if data:\n",
        "        placement_dataset.append(data.replace(\"\\n\", \"\").split(','))\n",
        "    else:\n",
        "        break\n",
        "print(placement_dataset)"
      ]
    },
    {
      "cell_type": "code",
      "execution_count": null,
      "metadata": {
        "id": "E-MxCaikPEC5"
      },
      "outputs": [],
      "source": [
        "Company=[]\n",
        "JobRole=[]\n",
        "Package=[]"
      ]
    },
    {
      "cell_type": "code",
      "execution_count": null,
      "metadata": {
        "id": "Fn7g_RxEPEC6"
      },
      "outputs": [],
      "source": [
        "for row in placement_dataset[1:]:\n",
        "    Company.append(row[1])\n",
        "    JobRole.append(row[2])\n",
        "    Package.append(row[3])"
      ]
    },
    {
      "cell_type": "code",
      "execution_count": null,
      "metadata": {
        "colab": {
          "base_uri": "https://localhost:8080/"
        },
        "id": "7uqndaDRPEC6",
        "outputId": "421821b7-2402-426b-970c-06d62e5de299"
      },
      "outputs": [
        {
          "output_type": "stream",
          "name": "stdout",
          "text": [
            "['Infosys', 'TCS', 'TCS', 'Infosys', 'Oracle', 'Oracle', 'TCS', 'Infosys', 'Mindtree', 'Mindtree']\n",
            "['Data Analyst', 'Java Developer', 'Data Scientist', 'Data Analyst', 'Java Developer', 'Data Scientist', 'Tester', 'Tester', 'Database Admin', 'Database Admin']\n",
            "['10.2', '9.6', '12.60', '10.2', '9.6', '12.60', '6.50', '6.51', '8.30', '8.31']\n"
          ]
        }
      ],
      "source": [
        "print(Company)\n",
        "print(JobRole)\n",
        "print(Package)"
      ]
    },
    {
      "cell_type": "code",
      "execution_count": null,
      "metadata": {
        "id": "LEu2uMpsPEC7"
      },
      "outputs": [],
      "source": [
        "studentdata=[]\n",
        "studentdata.append(RollNo)\n",
        "studentdata.append(Name)\n",
        "studentdata.append(Gender)\n",
        "studentdata.append(DOB)\n",
        "studentdata.append(Maths)\n",
        "studentdata.append(Physics)\n",
        "studentdata.append(Chemistry)\n",
        "studentdata.append(Total)\n",
        "studentdata.append(Percentage)\n",
        "studentdata.append(Company)\n",
        "studentdata.append(JobRole)\n",
        "studentdata.append(Package)"
      ]
    },
    {
      "cell_type": "code",
      "execution_count": null,
      "metadata": {
        "colab": {
          "base_uri": "https://localhost:8080/"
        },
        "id": "qWkJMdlPPEC7",
        "outputId": "7fc7a769-2867-4b04-ba9f-bcce4f0718cf"
      },
      "outputs": [
        {
          "output_type": "execute_result",
          "data": {
            "text/plain": [
              "[['1', '2', '3', '4', '5', '6', '7', '8', '9', '10'],\n",
              " ['John',\n",
              "  'Mayur',\n",
              "  'Mangesh',\n",
              "  'Jessica',\n",
              "  'Jennifer',\n",
              "  'Ramesh',\n",
              "  'Suresh',\n",
              "  'Ganesh',\n",
              "  'Komal',\n",
              "  'Mayuri'],\n",
              " ['Male',\n",
              "  'Male',\n",
              "  'Male',\n",
              "  'Female',\n",
              "  'Female',\n",
              "  'Male',\n",
              "  'Male',\n",
              "  'Male',\n",
              "  'Female',\n",
              "  'Female'],\n",
              " ['05-04-1988',\n",
              "  '04-05-1987',\n",
              "  '25-05-1989',\n",
              "  '12-08-1990',\n",
              "  '02-09-1989',\n",
              "  '03-09-1989',\n",
              "  '04-09-1990',\n",
              "  '05-10-1989',\n",
              "  '06-09-1989',\n",
              "  '07-02-1988'],\n",
              " ['55', '75', '25', '78', '58', '88', '56', '54', '46', '89'],\n",
              " ['45', '55', '54', '55', '96', '78', '89', '55', '66', '87'],\n",
              " ['56', '55', '89', '86', '78', '58', '69', '88', '65', '54'],\n",
              " ['156', '185', '168', '219', '232', '224', '214', '197', '177', '230'],\n",
              " ['52.00',\n",
              "  '61.67',\n",
              "  '56.00',\n",
              "  '73.00',\n",
              "  '77.33',\n",
              "  '74.67',\n",
              "  '71.33',\n",
              "  '65.67',\n",
              "  '59.00',\n",
              "  '76.67'],\n",
              " ['Infosys',\n",
              "  'TCS',\n",
              "  'TCS',\n",
              "  'Infosys',\n",
              "  'Oracle',\n",
              "  'Oracle',\n",
              "  'TCS',\n",
              "  'Infosys',\n",
              "  'Mindtree',\n",
              "  'Mindtree'],\n",
              " ['Data Analyst',\n",
              "  'Java Developer',\n",
              "  'Data Scientist',\n",
              "  'Data Analyst',\n",
              "  'Java Developer',\n",
              "  'Data Scientist',\n",
              "  'Tester',\n",
              "  'Tester',\n",
              "  'Database Admin',\n",
              "  'Database Admin'],\n",
              " ['10.2',\n",
              "  '9.6',\n",
              "  '12.60',\n",
              "  '10.2',\n",
              "  '9.6',\n",
              "  '12.60',\n",
              "  '6.50',\n",
              "  '6.51',\n",
              "  '8.30',\n",
              "  '8.31']]"
            ]
          },
          "metadata": {},
          "execution_count": 16
        }
      ],
      "source": [
        "studentdata"
      ]
    },
    {
      "cell_type": "markdown",
      "metadata": {
        "id": "aEGSEfvbPEC8"
      },
      "source": [
        "# 4. Writing Data to New File"
      ]
    },
    {
      "cell_type": "code",
      "execution_count": null,
      "metadata": {
        "id": "DIsF2JvuPEC8"
      },
      "outputs": [],
      "source": [
        "fw=open(\"StudentDetails.csv\",\"w\")"
      ]
    },
    {
      "cell_type": "code",
      "execution_count": null,
      "metadata": {
        "id": "BWa7NUgdPEC9"
      },
      "outputs": [],
      "source": [
        "data_to_write=[]\n",
        "for i in range(len(studentdata[0])):# 10 rows\n",
        "    row=list()\n",
        "    for j in range(len(studentdata)):#12 col\n",
        "        data=studentdata[j][i]\n",
        "        row.append(data)\n",
        "    row.append('\\n')\n",
        "    data_to_write.append(\",\".join(row))\n"
      ]
    },
    {
      "cell_type": "code",
      "execution_count": null,
      "metadata": {
        "colab": {
          "base_uri": "https://localhost:8080/"
        },
        "id": "8v0GuXRlPEC9",
        "outputId": "2560c92d-2064-4bf1-faa3-5edb9b8e17fc"
      },
      "outputs": [
        {
          "output_type": "execute_result",
          "data": {
            "text/plain": [
              "['1,John,Male,05-04-1988,55,45,56,156,52.00,Infosys,Data Analyst,10.2,\\n',\n",
              " '2,Mayur,Male,04-05-1987,75,55,55,185,61.67,TCS,Java Developer,9.6,\\n',\n",
              " '3,Mangesh,Male,25-05-1989,25,54,89,168,56.00,TCS,Data Scientist,12.60,\\n',\n",
              " '4,Jessica,Female,12-08-1990,78,55,86,219,73.00,Infosys,Data Analyst,10.2,\\n',\n",
              " '5,Jennifer,Female,02-09-1989,58,96,78,232,77.33,Oracle,Java Developer,9.6,\\n',\n",
              " '6,Ramesh,Male,03-09-1989,88,78,58,224,74.67,Oracle,Data Scientist,12.60,\\n',\n",
              " '7,Suresh,Male,04-09-1990,56,89,69,214,71.33,TCS,Tester,6.50,\\n',\n",
              " '8,Ganesh,Male,05-10-1989,54,55,88,197,65.67,Infosys,Tester,6.51,\\n',\n",
              " '9,Komal,Female,06-09-1989,46,66,65,177,59.00,Mindtree,Database Admin,8.30,\\n',\n",
              " '10,Mayuri,Female,07-02-1988,89,87,54,230,76.67,Mindtree,Database Admin,8.31,\\n']"
            ]
          },
          "metadata": {},
          "execution_count": 29
        }
      ],
      "source": [
        "data_to_write"
      ]
    },
    {
      "cell_type": "code",
      "execution_count": null,
      "metadata": {
        "id": "fMx5IN8ZPEC-"
      },
      "outputs": [],
      "source": [
        "fw.writelines(data_to_write)"
      ]
    },
    {
      "cell_type": "code",
      "execution_count": null,
      "metadata": {
        "id": "rP1rxcl1PEC-"
      },
      "outputs": [],
      "source": [
        "fw.close()"
      ]
    },
    {
      "cell_type": "markdown",
      "metadata": {
        "id": "rUQy6yuPPEC_"
      },
      "source": [
        "# 5. Statistical Operation"
      ]
    },
    {
      "cell_type": "code",
      "source": [],
      "metadata": {
        "id": "_y97WBs0T5O_"
      },
      "execution_count": null,
      "outputs": []
    },
    {
      "cell_type": "code",
      "execution_count": null,
      "metadata": {
        "colab": {
          "base_uri": "https://localhost:8080/",
          "height": 287
        },
        "id": "igUEyfIjPEC_",
        "outputId": "dfc2f1c7-567e-4c9f-d00e-e74d2fe095b6"
      },
      "outputs": [
        {
          "output_type": "stream",
          "name": "stdout",
          "text": [
            "Math Marks= ['55', '75', '25', '78', '58', '88', '56', '54', '46', '89']\n",
            "Phyics Marks= ['45', '55', '54', '55', '96', '78', '89', '55', '66', '87']\n",
            "Chemistry Marks= ['56', '55', '89', '86', '78', '58', '69', '88', '65', '54']\n"
          ]
        },
        {
          "output_type": "error",
          "ename": "NameError",
          "evalue": "ignored",
          "traceback": [
            "\u001b[0;31m---------------------------------------------------------------------------\u001b[0m",
            "\u001b[0;31mNameError\u001b[0m                                 Traceback (most recent call last)",
            "\u001b[0;32m<ipython-input-34-b5983b171870>\u001b[0m in \u001b[0;36m<cell line: 11>\u001b[0;34m()\u001b[0m\n\u001b[1;32m     11\u001b[0m \u001b[0;32mfor\u001b[0m \u001b[0mi\u001b[0m \u001b[0;32min\u001b[0m \u001b[0mrange\u001b[0m\u001b[0;34m(\u001b[0m\u001b[0mlen\u001b[0m\u001b[0;34m(\u001b[0m\u001b[0mmath\u001b[0m\u001b[0;34m)\u001b[0m\u001b[0;34m)\u001b[0m\u001b[0;34m:\u001b[0m\u001b[0;34m\u001b[0m\u001b[0;34m\u001b[0m\u001b[0m\n\u001b[1;32m     12\u001b[0m     \u001b[0msum_of_marks\u001b[0m\u001b[0;34m.\u001b[0m\u001b[0mappend\u001b[0m\u001b[0;34m(\u001b[0m\u001b[0mmath\u001b[0m\u001b[0;34m[\u001b[0m\u001b[0mi\u001b[0m\u001b[0;34m]\u001b[0m\u001b[0;34m+\u001b[0m\u001b[0mphysics\u001b[0m\u001b[0;34m[\u001b[0m\u001b[0mi\u001b[0m\u001b[0;34m]\u001b[0m\u001b[0;34m+\u001b[0m\u001b[0mchemistry\u001b[0m\u001b[0;34m[\u001b[0m\u001b[0mi\u001b[0m\u001b[0;34m]\u001b[0m\u001b[0;34m)\u001b[0m\u001b[0;34m\u001b[0m\u001b[0;34m\u001b[0m\u001b[0m\n\u001b[0;32m---> 13\u001b[0;31m     \u001b[0mavg\u001b[0m\u001b[0;34m.\u001b[0m\u001b[0mappend\u001b[0m\u001b[0;34m(\u001b[0m\u001b[0mround\u001b[0m\u001b[0;34m(\u001b[0m\u001b[0msum_of_marks\u001b[0m\u001b[0;34m[\u001b[0m\u001b[0mi\u001b[0m\u001b[0;34m]\u001b[0m\u001b[0;34m,\u001b[0m\u001b[0;36m2\u001b[0m\u001b[0;34m)\u001b[0m\u001b[0;34m)\u001b[0m\u001b[0;34m\u001b[0m\u001b[0;34m\u001b[0m\u001b[0m\n\u001b[0m\u001b[1;32m     14\u001b[0m \u001b[0mprint\u001b[0m\u001b[0;34m(\u001b[0m\u001b[0;34m\"Sum of Marks=\"\u001b[0m\u001b[0;34m,\u001b[0m\u001b[0msum_of_marks\u001b[0m\u001b[0;34m)\u001b[0m\u001b[0;34m\u001b[0m\u001b[0;34m\u001b[0m\u001b[0m\n\u001b[1;32m     15\u001b[0m \u001b[0mprint\u001b[0m\u001b[0;34m(\u001b[0m\u001b[0;34m\"Average Marks=\"\u001b[0m\u001b[0;34m,\u001b[0m\u001b[0mavg\u001b[0m\u001b[0;34m)\u001b[0m\u001b[0;34m\u001b[0m\u001b[0;34m\u001b[0m\u001b[0m\n",
            "\u001b[0;31mNameError\u001b[0m: name 'avg' is not defined"
          ]
        }
      ],
      "source": [
        "# 1. Sum of Marks\n",
        "# 2. Average Marks\n",
        "print(\"Math Marks=\",Maths)\n",
        "print(\"Phyics Marks=\",Physics)\n",
        "print(\"Chemistry Marks=\",Chemistry)\n",
        "math=[int(i) for i in Maths]\n",
        "physics=[int(i) for i in Physics]\n",
        "chemistry=[int(i) for i in Chemistry]\n",
        "sum_of_marks=[]\n",
        "average=[]\n",
        "for i in range(len(math)):\n",
        "    sum_of_marks.append(math[i]+physics[i]+chemistry[i])\n",
        "    avg.append(round(sum_of_marks[i],2))\n",
        "print(\"Sum of Marks=\",sum_of_marks)\n",
        "print(\"Average Marks=\",avg)"
      ]
    },
    {
      "cell_type": "code",
      "execution_count": null,
      "metadata": {
        "colab": {
          "base_uri": "https://localhost:8080/",
          "height": 183
        },
        "id": "nhb5wVbBPEDA",
        "outputId": "c65d3c7d-5aa2-435a-b844-f37f6749b667"
      },
      "outputs": [
        {
          "output_type": "error",
          "ename": "NameError",
          "evalue": "ignored",
          "traceback": [
            "\u001b[0;31m---------------------------------------------------------------------------\u001b[0m",
            "\u001b[0;31mNameError\u001b[0m                                 Traceback (most recent call last)",
            "\u001b[0;32m<ipython-input-35-63ab02317c3f>\u001b[0m in \u001b[0;36m<cell line: 2>\u001b[0;34m()\u001b[0m\n\u001b[1;32m      1\u001b[0m \u001b[0;31m# 3. Max Marks\u001b[0m\u001b[0;34m\u001b[0m\u001b[0;34m\u001b[0m\u001b[0m\n\u001b[0;32m----> 2\u001b[0;31m \u001b[0mprint\u001b[0m\u001b[0;34m(\u001b[0m\u001b[0;34m\"Maximum Marks=\"\u001b[0m\u001b[0;34m,\u001b[0m\u001b[0mmax\u001b[0m\u001b[0;34m(\u001b[0m\u001b[0mavg\u001b[0m\u001b[0;34m)\u001b[0m\u001b[0;34m)\u001b[0m\u001b[0;34m\u001b[0m\u001b[0;34m\u001b[0m\u001b[0m\n\u001b[0m",
            "\u001b[0;31mNameError\u001b[0m: name 'avg' is not defined"
          ]
        }
      ],
      "source": [
        "# 3. Max Marks\n",
        "print(\"Maximum Marks=\",max(avg))"
      ]
    },
    {
      "cell_type": "code",
      "execution_count": null,
      "metadata": {
        "id": "moFzJUvePEDB",
        "outputId": "c250086f-7edd-4edb-ad2e-b44a2d87269b"
      },
      "outputs": [
        {
          "name": "stdout",
          "output_type": "stream",
          "text": [
            "Maximum Marks= 52.0\n"
          ]
        }
      ],
      "source": [
        "# 4. Min Marks\n",
        "# Max Marks\n",
        "print(\"Maximum Marks=\",min(avg))"
      ]
    },
    {
      "cell_type": "code",
      "execution_count": null,
      "metadata": {
        "id": "rwFgzi--PEDB",
        "outputId": "a1a43741-5a52-4fca-cc8e-b2cf55b1a8cb"
      },
      "outputs": [
        {
          "name": "stdout",
          "output_type": "stream",
          "text": [
            "Total No of Student= 10\n"
          ]
        }
      ],
      "source": [
        "# 5. Count total no of student\n",
        "print(\"Total No of Student=\",len(studentdata[0]))"
      ]
    },
    {
      "cell_type": "code",
      "execution_count": null,
      "metadata": {
        "id": "2PYyqmyxPEDC",
        "outputId": "9b7bf08b-3920-4b42-b443-68148d6be86a"
      },
      "outputs": [
        {
          "name": "stdout",
          "output_type": "stream",
          "text": [
            "Percentage= [57.78, 68.52, 62.22, 81.11, 85.93, 82.96, 79.26, 72.96, 65.56, 85.19]\n"
          ]
        }
      ],
      "source": [
        "#6. Percentage\n",
        "#assume math marks=90, physic=90, chem=90\n",
        "per=[]\n",
        "for i in range(len(sum_of_marks)):\n",
        "    per.append(round((100*sum_of_marks[i]/270),2))\n",
        "print(\"Percentage=\",per)"
      ]
    },
    {
      "cell_type": "code",
      "execution_count": null,
      "metadata": {
        "id": "-56m9cmvPEDC"
      },
      "outputs": [],
      "source": []
    }
  ],
  "metadata": {
    "kernelspec": {
      "display_name": "Python 3 (ipykernel)",
      "language": "python",
      "name": "python3"
    },
    "language_info": {
      "codemirror_mode": {
        "name": "ipython",
        "version": 3
      },
      "file_extension": ".py",
      "mimetype": "text/x-python",
      "name": "python",
      "nbconvert_exporter": "python",
      "pygments_lexer": "ipython3",
      "version": "3.10.9"
    },
    "colab": {
      "provenance": []
    }
  },
  "nbformat": 4,
  "nbformat_minor": 0
}