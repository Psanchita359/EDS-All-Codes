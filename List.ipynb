{
  "cells": [
    {
      "cell_type": "markdown",
      "id": "de4ce99c",
      "metadata": {
        "id": "de4ce99c"
      },
      "source": [
        "<h2>Practice Lab Assignment:</h2>\n",
        "1. Perform all List Operations, Tuple Operations, Dictionary Operations.\n",
        "<br><h2>Lab Assignment:</h2>\n",
        "<ul><li>Prepare/Take dataset for any real life application. For Ex. Sales of the company. </li><li>Read the data from\n",
        "Sales.csv/.xls/.txt.</li> <li>Store Product details in List data structure. </li><li>Store Supplier Details in Dictionary\n",
        "Data Structure.</li> <li>Store Customer Details in Tuple Data Structure. </li><li>Now perform the following operations:</li></ul><br>\n",
        "- Find the most popular product for sales.<br>\n",
        "- Find the best supplier for sales.<br>\n",
        "- Find the customer who buys most of the products.<br>\n",
        "- Find the number of customer who are ‘Female’<br>\n",
        "<h2>Self Study Assignment:</h2> Consider the student result dataset. Find 10 grains for the student result.\n",
        "For 10 grains find the solution using list, tuple and dictionary.\n",
        "<font color=\"red\"><h2>Prepared By: Nilesh B. Korade</h2></font>\n"
      ]
    },
    {
      "cell_type": "markdown",
      "id": "41f0a2af",
      "metadata": {
        "id": "41f0a2af"
      },
      "source": [
        "# 1. Read CSV into python data structure"
      ]
    },
    {
      "cell_type": "code",
      "execution_count": null,
      "id": "f89dd213",
      "metadata": {
        "colab": {
          "base_uri": "https://localhost:8080/"
        },
        "id": "f89dd213",
        "outputId": "c2a84956-6a4f-4c1c-9491-7873d0953007"
      },
      "outputs": [
        {
          "output_type": "stream",
          "name": "stdout",
          "text": [
            "<class 'tuple'>\n"
          ]
        }
      ],
      "source": [
        "Product_details=[]\n",
        "Supplier_details=dict()\n",
        "Customer_details=[]\n",
        "gender={}\n",
        "\n",
        "fp=open(\"/content/Sales.csv\",\"r\")\n",
        "data=fp.readline()\n",
        "\n",
        "\n",
        "    #print(data)\n",
        "    while(True):\n",
        "\n",
        "    data=fp.readline()\n",
        "    if not data:\n",
        "        break;\n",
        "    data=data.replace(\"\\n\",\"\")\n",
        "    temp=data.split(\",\")\n",
        "    Product_details.append(temp[1])\n",
        "    Customer_details.append(temp[3])\n",
        "    Supplier_details.update({temp[0]:temp[2]})\n",
        "    gender.update({temp[3]:temp[4]})\n",
        "\n",
        "fp.close()\n",
        "\n",
        "Customer_details=tuple(Customer_details)\n",
        "print(type(Customer_details))"
      ]
    },
    {
      "cell_type": "code",
      "execution_count": null,
      "id": "a674ae86",
      "metadata": {
        "id": "a674ae86",
        "outputId": "9a9c3607-916e-4e44-a04e-ac82f9ccb127"
      },
      "outputs": [
        {
          "name": "stdout",
          "output_type": "stream",
          "text": [
            "\n",
            "Product_details\n",
            " ['Lenovo Laptop', 'Samsung M31', 'Realmi 10pro', 'Oppo F21', 'Lenovo Laptop', 'Samsung M31', '\"LG TV 32\"\"\"', 'Oppo F21', 'Lenovo Laptop', 'Samsung M31', '\"LG TV 32\"\"\"', 'Lenovo Laptop', 'Samsung M31', 'Realmi 10pro', 'Lenovo Laptop', 'Oppo F21', '\"LG TV 32\"\"\"', 'Lenovo Laptop', 'Samsung M31', '\"LG TV 32\"\"\"']\n",
            "\n",
            "Customer_details\n",
            " ('Kaustubh Mahajan', 'Siddhi Kiwale', 'Sanket Kandalkar', 'Yash Mali', 'Yash Bagul', 'Siddhi Kiwale', 'Sanket Kandalkar', 'Kaustubh Mahajan', 'Yash Mali', 'Siddhi Kiwale', 'Sanket Kandalkar', 'Kaustubh Mahajan', 'Yash Mali', 'Siddhi Kiwale', 'Tanuja Mali', 'Kaustubh Mahajan', 'Sanket Kandalkar', 'Siddhi Kiwale', 'Kaustubh Mahajan', 'Yash Mali')\n",
            "\n",
            "Supplier_details\n",
            " {'P00001': 'Raka Ele.', 'P00002': 'Vijay Sales', 'P00003': 'Gada Ele.', 'P00004': 'Surya Ele.', 'P00005': 'Raka Ele.', 'P00006': 'Gada Ele.', 'P00007': 'Vijay Sales', 'P00008': 'Surya Ele.', 'P00009': 'Raka Ele.', 'P00010': 'Gada Ele.', 'P00011': 'Surya Ele.', 'P00012': 'Raka Ele.', 'P00013': 'Surya Ele.', 'P00014': 'Raka Ele.', 'P00015': 'Gada Ele.', 'P00016': 'Vijay Sales', 'P00017': 'Deshmukh sales', 'P00018': 'Raka Ele.', 'P00019': 'Deshmukh sales', 'P00020': 'Gada Ele.'}\n",
            "\n",
            "Gender_details\n",
            " {'Kaustubh Mahajan': 'Male', 'Siddhi Kiwale': 'Female', 'Sanket Kandalkar': 'Male', 'Yash Mali': 'Male', 'Yash Bagul': 'Male', 'Tanuja Mali': 'Female'}"
          ]
        }
      ],
      "source": [
        "print(\"\\nProduct_details\\n\",Product_details,end=\"\")\n",
        "print(\"\\n\\nCustomer_details\\n\",Customer_details,end=\"\")\n",
        "print(\"\\n\\nSupplier_details\\n\",Supplier_details,end=\"\")\n",
        "print(\"\\n\\nGender_details\\n\",gender,end=\"\")"
      ]
    },
    {
      "cell_type": "markdown",
      "id": "89fb0c66",
      "metadata": {
        "id": "89fb0c66"
      },
      "source": [
        "# 2. Find the most popular product for sales."
      ]
    },
    {
      "cell_type": "code",
      "execution_count": null,
      "id": "8144161f",
      "metadata": {
        "colab": {
          "base_uri": "https://localhost:8080/"
        },
        "id": "8144161f",
        "outputId": "2b7b7e60-a745-45cb-c7d9-f83a1286ae78"
      },
      "outputs": [
        {
          "output_type": "stream",
          "name": "stdout",
          "text": [
            "{'Lenovo Laptop': 6, 'Samsung M31': 5, 'Realmi 10pro': 2, 'Oppo F21': 3, '\"LG TV 32\"\"\"': 4}\n",
            "{'Lenovo Laptop': 6, 'Samsung M31': 5, '\"LG TV 32\"\"\"': 4, 'Oppo F21': 3, 'Realmi 10pro': 2}\n",
            "The most popular product for sales Lenovo Laptop  sold  6 times\n"
          ]
        }
      ],
      "source": [
        "frequency = {}#{Lenovo Laptop:3}\n",
        "# iterating over the list\n",
        "for item in Product_details:\n",
        "   # checking the element in dictionary\n",
        "   if item in frequency:\n",
        "      # incrementing the counter\n",
        "      frequency[item] += 1\n",
        "   else:\n",
        "      # initializing the count\n",
        "      frequency[item] = 1\n",
        "# printing the frequency\n",
        "print(frequency)\n",
        "marklist = sorted(frequency.items(), key=lambda x:x[1],reverse=True)\n",
        "sortdict = dict(marklist)\n",
        "print(sortdict)\n",
        "print(\"The most popular product for sales\",list(sortdict.keys())[0],\" sold \",list(sortdict.values())[0],\"times\")"
      ]
    },
    {
      "cell_type": "markdown",
      "id": "7aa79a29",
      "metadata": {
        "id": "7aa79a29"
      },
      "source": [
        "<Center><h2>OR"
      ]
    },
    {
      "cell_type": "code",
      "execution_count": null,
      "id": "58547f88",
      "metadata": {
        "id": "58547f88"
      },
      "outputs": [],
      "source": [
        "# to install collections\n",
        "pip install collections #shift+enter"
      ]
    },
    {
      "cell_type": "code",
      "execution_count": null,
      "id": "1a448e81",
      "metadata": {
        "colab": {
          "base_uri": "https://localhost:8080/"
        },
        "id": "1a448e81",
        "outputId": "9360398e-d2a8-4763-bafe-360905c45ce4"
      },
      "outputs": [
        {
          "output_type": "stream",
          "name": "stdout",
          "text": [
            "The most popular product for sales Lenovo Laptop  sold  6 times\n"
          ]
        }
      ],
      "source": [
        "from collections import Counter\n",
        "counter = dict(Counter(Product_details))\n",
        "sorted_counter = sorted(counter.items(), key=lambda x:x[1],reverse=True)\n",
        "sorted_counter=dict(sorted_counter)\n",
        "print(\"The most popular product for sales\",list(sorted_counter.keys())[0],\n",
        "      \" sold \",list(sorted_counter.values())[0],\"times\")"
      ]
    },
    {
      "cell_type": "markdown",
      "id": "d3ecaa4e",
      "metadata": {
        "id": "d3ecaa4e"
      },
      "source": [
        "# 3. Find the best supplier for sales"
      ]
    },
    {
      "cell_type": "code",
      "execution_count": null,
      "id": "0ff1f300",
      "metadata": {
        "colab": {
          "base_uri": "https://localhost:8080/"
        },
        "id": "0ff1f300",
        "outputId": "8eff9d99-c2f4-41dd-f3df-ad3ba4152741"
      },
      "outputs": [
        {
          "output_type": "stream",
          "name": "stdout",
          "text": [
            "{'Raka Ele.': 6, 'Vijay Sales': 3, 'Gada Ele.': 5, 'Surya Ele.': 4, 'Deshmukh sales': 2}\n",
            "{'Raka Ele.': 6, 'Gada Ele.': 5, 'Surya Ele.': 4, 'Vijay Sales': 3, 'Deshmukh sales': 2}\n",
            "The most popular Supplier for sales Raka Ele.  sold  6 Items\n"
          ]
        }
      ],
      "source": [
        "frequency = {}\n",
        "# iterating over the list\n",
        "for item in Supplier_details.values():\n",
        "   # checking the element in dictionary\n",
        "   if item in frequency:\n",
        "      # incrementing the counter\n",
        "      frequency[item] += 1\n",
        "   else:\n",
        "      # initializing the count\n",
        "      frequency[item] = 1\n",
        "# printing the frequency\n",
        "print(frequency)\n",
        "marklist = sorted(frequency.items(), key=lambda x:x[1],reverse=True)\n",
        "sortdict = dict(marklist)\n",
        "print(sortdict)\n",
        "print(\"The most popular Supplier for sales\",list(sortdict.keys())[0],\n",
        "      \" sold \",list(sortdict.values())[0],\"Items\")"
      ]
    },
    {
      "cell_type": "markdown",
      "id": "0cd666fa",
      "metadata": {
        "id": "0cd666fa"
      },
      "source": [
        "<Center><h2>OR"
      ]
    },
    {
      "cell_type": "code",
      "execution_count": null,
      "id": "f8345497",
      "metadata": {
        "id": "f8345497",
        "outputId": "97e6b8fb-320f-47a5-c4b2-74857fdd9ea6"
      },
      "outputs": [
        {
          "name": "stdout",
          "output_type": "stream",
          "text": [
            "The most popular Supplier for sales Raka Ele.  sold  6 Items\n"
          ]
        }
      ],
      "source": [
        "frequency = {}\n",
        "# iterating over the list\n",
        "for item in Supplier_details.values():\n",
        "   # checking the element in dictionary\n",
        "   if item in frequency:\n",
        "      # incrementing the counter\n",
        "      frequency[item] += 1\n",
        "   else:\n",
        "      # initializing the count\n",
        "      frequency[item] = 1\n",
        "# printing the frequency\n",
        "print(frequency)\n",
        "marklist = sorted(frequency.items(), key=lambda x:x[1],reverse=True)\n",
        "sortdict = dict(marklist)\n",
        "print(sortdict)\n",
        "print(\"The most popular Supplier for sales\",list(sortdict.keys())[0],\n",
        "      \" sold \",list(sortdict.values())[0],\"Items\")"
      ]
    },
    {
      "cell_type": "markdown",
      "id": "2eb048ad",
      "metadata": {
        "id": "2eb048ad"
      },
      "source": [
        "# 4. Find the customer who buys most of the products."
      ]
    },
    {
      "cell_type": "code",
      "execution_count": null,
      "id": "f0637ade",
      "metadata": {
        "colab": {
          "base_uri": "https://localhost:8080/"
        },
        "id": "f0637ade",
        "outputId": "2dc96ea4-afb6-4647-e8d0-e1deb4d5b3e5"
      },
      "outputs": [
        {
          "output_type": "stream",
          "name": "stdout",
          "text": [
            "Freqenct is as below:\n",
            " {'Kaustubh Mahajan': 5, 'Siddhi Kiwale': 5, 'Sanket Kandalkar': 4, 'Yash Mali': 4, 'Yash Bagul': 1, 'Tanuja Mali': 1}\n",
            "\n",
            "Sorted dict is as below:\n",
            " {'Kaustubh Mahajan': 5, 'Siddhi Kiwale': 5, 'Sanket Kandalkar': 4, 'Yash Mali': 4, 'Yash Bagul': 1, 'Tanuja Mali': 1}\n",
            "\n",
            "\n",
            "The customer who buys most of the products Kaustubh Mahajan  buy  5 Items\n"
          ]
        }
      ],
      "source": [
        "frequency = {}\n",
        "# iterating over the list\n",
        "for item in Customer_details:\n",
        "   # checking the element in dictionary\n",
        "   if item in frequency:\n",
        "      # incrementing the counter\n",
        "      frequency[item] += 1\n",
        "   else:\n",
        "      # initializing the count\n",
        "      frequency[item] = 1\n",
        "# printing the frequency\n",
        "print(\"Freqenct is as below:\\n\",frequency)\n",
        "marklist = sorted(frequency.items(), key=lambda x:x[1],reverse=True)\n",
        "sortdict = dict(marklist)\n",
        "print(\"\\nSorted dict is as below:\\n\",sortdict)\n",
        "print(\"\\n\\nThe customer who buys most of the products\",list(sortdict.keys())[0],\n",
        "      \" buy \",list(sortdict.values())[0],\"Items\")"
      ]
    },
    {
      "cell_type": "markdown",
      "id": "2fb1394f",
      "metadata": {
        "id": "2fb1394f"
      },
      "source": [
        "<Center><h2>OR"
      ]
    },
    {
      "cell_type": "code",
      "execution_count": null,
      "id": "b11ff9da",
      "metadata": {
        "colab": {
          "base_uri": "https://localhost:8080/"
        },
        "id": "b11ff9da",
        "outputId": "4929e587-b716-4a60-f998-9a48161cfac8"
      },
      "outputs": [
        {
          "output_type": "stream",
          "name": "stdout",
          "text": [
            "The customer who buys most of the products Kaustubh Mahajan  buy  5 Items\n"
          ]
        }
      ],
      "source": [
        "from collections import Counter\n",
        "counter = dict(Counter(Customer_details))\n",
        "sorted_counter = sorted(counter.items(), key=lambda x:x[1],reverse=True)\n",
        "sorted_counter=dict(sorted_counter)\n",
        "print(\"The customer who buys most of the products\",list(sorted_counter.keys())[0],\n",
        "      \" buy \",list(sorted_counter.values())[0],\"Items\")"
      ]
    },
    {
      "cell_type": "markdown",
      "id": "d89c4044",
      "metadata": {
        "id": "d89c4044"
      },
      "source": [
        "# 5. Find the number of customer who are ‘Female’"
      ]
    },
    {
      "cell_type": "code",
      "execution_count": null,
      "id": "c1bd45a1",
      "metadata": {
        "colab": {
          "base_uri": "https://localhost:8080/"
        },
        "id": "c1bd45a1",
        "outputId": "8130ebae-aaea-42cb-fc65-ad90c70a44a1"
      },
      "outputs": [
        {
          "output_type": "stream",
          "name": "stdout",
          "text": [
            "['Kaustubh Mahajan', 'Siddhi Kiwale', 'Sanket Kandalkar', 'Yash Mali', 'Yash Bagul', 'Tanuja Mali']\n",
            "Total no of Male= 4\n",
            "Total no of Female= 2\n"
          ]
        }
      ],
      "source": [
        "# Identify Unique Customer\n",
        "from collections import Counter\n",
        "counter = dict(Counter(Customer_details))\n",
        "names=list(counter.keys())\n",
        "print(names)\n",
        "male=0\n",
        "female=0\n",
        "\n",
        "for name in names:\n",
        "    if gender[name]==\"Male\":\n",
        "        male=male+1\n",
        "    if gender[name]==\"Female\":\n",
        "        female+=1\n",
        "print(\"Total no of Male=\",male)\n",
        "print(\"Total no of Female=\",female)"
      ]
    }
  ],
  "metadata": {
    "kernelspec": {
      "display_name": "Python 3",
      "language": "python",
      "name": "python3"
    },
    "language_info": {
      "codemirror_mode": {
        "name": "ipython",
        "version": 3
      },
      "file_extension": ".py",
      "mimetype": "text/x-python",
      "name": "python",
      "nbconvert_exporter": "python",
      "pygments_lexer": "ipython3",
      "version": "3.8.8"
    },
    "colab": {
      "provenance": []
    }
  },
  "nbformat": 4,
  "nbformat_minor": 5
}