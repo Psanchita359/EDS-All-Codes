{
  "cells": [
    {
      "cell_type": "markdown",
      "id": "c6c79dca",
      "metadata": {
        "id": "c6c79dca"
      },
      "source": [
        "<b><font color=\"black\">Essential of Data Science Lab Assignment No: 3</b></color>\n",
        "1. Perform all the Numpy operations in python.\n",
        "Lab Assignment:\n",
        "Prepare/Take dataset for any real life application. Read a dataset into an array. Perform following\n",
        "operations on it as:\n",
        "- Perform all matrix operations\n",
        "- Horizontal and vertical stacking of Numpy Arrays\n",
        "- Custom sequence generation\n",
        "- Arithmetic and Statistical Operations, Mathematical Operations, Bitwise Operators\n",
        "- Copying and viewing arrays\n",
        "- Data Stacking, Searching, Sorting, Counting, Broadcasting\n",
        "Self Study Assignment: For any real life application, perform advanced data operations such as\n",
        "image as array and image manipulations.\n",
        "<center><p style=\"font-size:20px;color:red;font-family:Times New Roman\"></p></center>"
      ]
    },
    {
      "cell_type": "code",
      "execution_count": null,
      "id": "73e53cf5",
      "metadata": {
        "id": "73e53cf5"
      },
      "outputs": [],
      "source": [
        "import numpy as np"
      ]
    },
    {
      "cell_type": "code",
      "execution_count": null,
      "id": "6bc6c122",
      "metadata": {
        "id": "6bc6c122",
        "outputId": "30f65421-bd47-4fde-dd0c-d75c7bedecfc"
      },
      "outputs": [
        {
          "data": {
            "text/plain": [
              "array([[1, 2, 3],\n",
              "       [4, 5, 6],\n",
              "       [7, 8, 9]])"
            ]
          },
          "execution_count": 2,
          "metadata": {},
          "output_type": "execute_result"
        }
      ],
      "source": [
        "array1=np.array([[1,2,3],[4,5,6],[7,8,9]])\n",
        "array1"
      ]
    },
    {
      "cell_type": "code",
      "execution_count": null,
      "id": "bb523ddc",
      "metadata": {
        "id": "bb523ddc",
        "outputId": "4bf794f8-b2df-4841-b49c-1ebb29f3937a"
      },
      "outputs": [
        {
          "data": {
            "text/plain": [
              "array([[11, 12, 13],\n",
              "       [14, 15, 16],\n",
              "       [17, 18, 19]])"
            ]
          },
          "execution_count": 4,
          "metadata": {},
          "output_type": "execute_result"
        }
      ],
      "source": [
        "array2=np.array([[11,12,13],[14,15,16],[17,18,19]])\n",
        "array2"
      ]
    },
    {
      "cell_type": "markdown",
      "id": "37329834",
      "metadata": {
        "id": "37329834"
      },
      "source": [
        "# 1. Matrix Operation\n",
        "## 1.1 Addition"
      ]
    },
    {
      "cell_type": "code",
      "execution_count": null,
      "id": "9ada1b73",
      "metadata": {
        "id": "9ada1b73",
        "outputId": "67bdfd67-0453-47a0-a92f-cf7df912fabf"
      },
      "outputs": [
        {
          "name": "stdout",
          "output_type": "stream",
          "text": [
            "\n",
            "Using Operator:\n",
            " [[12 14 16]\n",
            " [18 20 22]\n",
            " [24 26 28]]\n",
            "\n",
            "Using Numpy Function:\n",
            " [[12 14 16]\n",
            " [18 20 22]\n",
            " [24 26 28]]\n"
          ]
        }
      ],
      "source": [
        "resultarray=array1+array2\n",
        "print(\"\\nUsing Operator:\\n\",resultarray)\n",
        "resultarray=np.add(array1,array2)\n",
        "print(\"\\nUsing Numpy Function:\\n\",resultarray)"
      ]
    },
    {
      "cell_type": "markdown",
      "id": "48db338d",
      "metadata": {
        "id": "48db338d"
      },
      "source": [
        "## 1.2. Subtraction"
      ]
    },
    {
      "cell_type": "code",
      "execution_count": null,
      "id": "408a1fa7",
      "metadata": {
        "id": "408a1fa7",
        "outputId": "6c40554d-b935-43e3-fa75-ed8ec11b0ef5"
      },
      "outputs": [
        {
          "name": "stdout",
          "output_type": "stream",
          "text": [
            "\n",
            "Using Operator:\n",
            " [[-10 -10 -10]\n",
            " [-10 -10 -10]\n",
            " [-10 -10 -10]]\n",
            "\n",
            "Using Numpy Function:\n",
            " [[-10 -10 -10]\n",
            " [-10 -10 -10]\n",
            " [-10 -10 -10]]\n"
          ]
        }
      ],
      "source": [
        "resultarray=array1-array2\n",
        "print(\"\\nUsing Operator:\\n\",resultarray)\n",
        "resultarray=np.subtract(array1,array2)\n",
        "print(\"\\nUsing Numpy Function:\\n\",resultarray)"
      ]
    },
    {
      "cell_type": "markdown",
      "id": "de07f54f",
      "metadata": {
        "id": "de07f54f"
      },
      "source": [
        "## 1.3. Multiplication"
      ]
    },
    {
      "cell_type": "code",
      "execution_count": null,
      "id": "9f17e644",
      "metadata": {
        "id": "9f17e644",
        "outputId": "a8e2588b-a85a-4bb4-8b1d-6ae18026ca4c"
      },
      "outputs": [
        {
          "name": "stdout",
          "output_type": "stream",
          "text": [
            "\n",
            "Using Operator:\n",
            " [[ 11  24  39]\n",
            " [ 56  75  96]\n",
            " [119 144 171]]\n",
            "\n",
            "Using Numpy Function:\n",
            " [[ 11  24  39]\n",
            " [ 56  75  96]\n",
            " [119 144 171]]\n"
          ]
        }
      ],
      "source": [
        "resultarray=array1*array2\n",
        "print(\"\\nUsing Operator:\\n\",resultarray)\n",
        "resultarray=np.multiply(array1,array2)\n",
        "print(\"\\nUsing Numpy Function:\\n\",resultarray)"
      ]
    },
    {
      "cell_type": "markdown",
      "id": "9c94c0f3",
      "metadata": {
        "id": "9c94c0f3"
      },
      "source": [
        "## 1.4. Division"
      ]
    },
    {
      "cell_type": "code",
      "execution_count": null,
      "id": "affe667a",
      "metadata": {
        "id": "affe667a",
        "outputId": "899962d7-e377-46ce-9b98-dbde29bf55b7"
      },
      "outputs": [
        {
          "name": "stdout",
          "output_type": "stream",
          "text": [
            "\n",
            "Using Operator:\n",
            " [[0.09090909 0.16666667 0.23076923]\n",
            " [0.28571429 0.33333333 0.375     ]\n",
            " [0.41176471 0.44444444 0.47368421]]\n",
            "\n",
            "Using Numpy Function:\n",
            " [[0.09090909 0.16666667 0.23076923]\n",
            " [0.28571429 0.33333333 0.375     ]\n",
            " [0.41176471 0.44444444 0.47368421]]\n"
          ]
        }
      ],
      "source": [
        "resultarray=array1/array2\n",
        "print(\"\\nUsing Operator:\\n\",resultarray)\n",
        "resultarray=np.divide(array1,array2)\n",
        "print(\"\\nUsing Numpy Function:\\n\",resultarray)"
      ]
    },
    {
      "cell_type": "markdown",
      "id": "3a217521",
      "metadata": {
        "id": "3a217521"
      },
      "source": [
        "## 1.5. Mod"
      ]
    },
    {
      "cell_type": "code",
      "execution_count": null,
      "id": "e41518a3",
      "metadata": {
        "id": "e41518a3",
        "outputId": "9baa264a-3b4e-4a7c-e47b-9c6d13f3c674"
      },
      "outputs": [
        {
          "name": "stdout",
          "output_type": "stream",
          "text": [
            "\n",
            "Using Operator:\n",
            " [[1 2 3]\n",
            " [4 5 6]\n",
            " [7 8 9]]\n",
            "\n",
            "Using Numpy Function:\n",
            " [[1 2 3]\n",
            " [4 5 6]\n",
            " [7 8 9]]\n"
          ]
        }
      ],
      "source": [
        "resultarray=array1%array2\n",
        "print(\"\\nUsing Operator:\\n\",resultarray)\n",
        "resultarray=np.mod(array1,array2)\n",
        "print(\"\\nUsing Numpy Function:\\n\",resultarray)"
      ]
    },
    {
      "cell_type": "markdown",
      "id": "5b4c483a",
      "metadata": {
        "id": "5b4c483a"
      },
      "source": [
        "## 1.6. dot Product"
      ]
    },
    {
      "cell_type": "code",
      "execution_count": null,
      "id": "424a300b",
      "metadata": {
        "id": "424a300b",
        "outputId": "e35c5d10-fe41-409c-8b82-ccd86f295eb4"
      },
      "outputs": [
        {
          "name": "stdout",
          "output_type": "stream",
          "text": [
            " [[ 90  96 102]\n",
            " [216 231 246]\n",
            " [342 366 390]]\n"
          ]
        }
      ],
      "source": [
        "resultarray=np.dot(array1,array2)\n",
        "print(\"\",resultarray)"
      ]
    },
    {
      "cell_type": "markdown",
      "id": "421df1a8",
      "metadata": {
        "id": "421df1a8"
      },
      "source": [
        "## 1.7. Transpose"
      ]
    },
    {
      "cell_type": "code",
      "execution_count": null,
      "id": "2d95ebad",
      "metadata": {
        "id": "2d95ebad",
        "outputId": "87aeaf07-fe54-4712-82c5-542fd43f93f2"
      },
      "outputs": [
        {
          "name": "stdout",
          "output_type": "stream",
          "text": [
            "[[1 4 7]\n",
            " [2 5 8]\n",
            " [3 6 9]]\n",
            "[[1 4 7]\n",
            " [2 5 8]\n",
            " [3 6 9]]\n"
          ]
        }
      ],
      "source": [
        "resultarray=np.transpose(array1)\n",
        "print(resultarray)\n",
        "#Or\n",
        "resultarray=array1.transpose()\n",
        "print(resultarray)"
      ]
    },
    {
      "cell_type": "markdown",
      "id": "57952e14",
      "metadata": {
        "id": "57952e14"
      },
      "source": [
        "# 2. Horizontal and vertical stacking of Numpy Arrays"
      ]
    },
    {
      "cell_type": "markdown",
      "id": "e9d2aede",
      "metadata": {
        "id": "e9d2aede"
      },
      "source": [
        "## 2.1. Horizontal Stacking"
      ]
    },
    {
      "cell_type": "code",
      "execution_count": null,
      "id": "83ad3151",
      "metadata": {
        "id": "83ad3151",
        "outputId": "5a604068-d933-49cf-adee-472345784c92"
      },
      "outputs": [
        {
          "data": {
            "text/plain": [
              "array([[ 1,  2,  3, 11, 12, 13],\n",
              "       [ 4,  5,  6, 14, 15, 16],\n",
              "       [ 7,  8,  9, 17, 18, 19]])"
            ]
          },
          "execution_count": 27,
          "metadata": {},
          "output_type": "execute_result"
        }
      ],
      "source": [
        "\n",
        "resultarray=np.hstack((array1,array2))\n",
        "resultarray"
      ]
    },
    {
      "cell_type": "markdown",
      "id": "2c742c57",
      "metadata": {
        "id": "2c742c57"
      },
      "source": [
        "## 2.2. Vertical Stacking"
      ]
    },
    {
      "cell_type": "code",
      "execution_count": null,
      "id": "a884c273",
      "metadata": {
        "id": "a884c273",
        "outputId": "733bac06-026d-4046-efda-1e9376bf67db"
      },
      "outputs": [
        {
          "data": {
            "text/plain": [
              "array([[ 1,  2,  3],\n",
              "       [ 4,  5,  6],\n",
              "       [ 7,  8,  9],\n",
              "       [11, 12, 13],\n",
              "       [14, 15, 16],\n",
              "       [17, 18, 19]])"
            ]
          },
          "execution_count": 29,
          "metadata": {},
          "output_type": "execute_result"
        }
      ],
      "source": [
        "resultarray=np.vstack((array1,array2))\n",
        "resultarray"
      ]
    },
    {
      "cell_type": "markdown",
      "id": "19681f7f",
      "metadata": {
        "id": "19681f7f"
      },
      "source": [
        "# 3.Custom sequence generation"
      ]
    },
    {
      "cell_type": "markdown",
      "id": "9f7c216c",
      "metadata": {
        "id": "9f7c216c"
      },
      "source": [
        "## 3.1. Range"
      ]
    },
    {
      "cell_type": "code",
      "execution_count": null,
      "id": "e68b6d48",
      "metadata": {
        "id": "e68b6d48",
        "outputId": "399fd223-b28b-4527-8685-0f22f8a22cf1"
      },
      "outputs": [
        {
          "data": {
            "text/plain": [
              "array([[ 0,  1,  2,  3],\n",
              "       [ 4,  5,  6,  7],\n",
              "       [ 8,  9, 10, 11]])"
            ]
          },
          "execution_count": 3,
          "metadata": {},
          "output_type": "execute_result"
        }
      ],
      "source": [
        "import numpy as np\n",
        "nparray=np.arange(0,12,1).reshape(3,4)\n",
        "nparray"
      ]
    },
    {
      "cell_type": "markdown",
      "id": "1643d6cf",
      "metadata": {
        "id": "1643d6cf"
      },
      "source": [
        "## 3.2. Linearly Separable"
      ]
    },
    {
      "cell_type": "code",
      "execution_count": null,
      "id": "8fa1458c",
      "metadata": {
        "id": "8fa1458c",
        "outputId": "fe19c5e5-fe16-4be2-e4b3-1144c562d49f"
      },
      "outputs": [
        {
          "data": {
            "text/plain": [
              "array([[ 0.        ,  2.18181818,  4.36363636,  6.54545455],\n",
              "       [ 8.72727273, 10.90909091, 13.09090909, 15.27272727],\n",
              "       [17.45454545, 19.63636364, 21.81818182, 24.        ]])"
            ]
          },
          "execution_count": 39,
          "metadata": {},
          "output_type": "execute_result"
        }
      ],
      "source": [
        "nparray=np.linspace(start=0,stop=24,num=12).reshape(3,4)\n",
        "nparray"
      ]
    },
    {
      "cell_type": "markdown",
      "id": "9a483563",
      "metadata": {
        "id": "9a483563"
      },
      "source": [
        "## 3.3. Empty Array"
      ]
    },
    {
      "cell_type": "code",
      "execution_count": null,
      "id": "52b786ab",
      "metadata": {
        "id": "52b786ab",
        "outputId": "73cba5a4-2223-4927-d7fd-14698691f56a"
      },
      "outputs": [
        {
          "data": {
            "text/plain": [
              "array([[ 11,  24,  39],\n",
              "       [ 56,  75,  96],\n",
              "       [119, 144, 171]])"
            ]
          },
          "execution_count": 41,
          "metadata": {},
          "output_type": "execute_result"
        }
      ],
      "source": [
        "nparray=np.empty((3,3),int)\n",
        "nparray"
      ]
    },
    {
      "cell_type": "markdown",
      "id": "c4e624c8",
      "metadata": {
        "id": "c4e624c8"
      },
      "source": [
        "## 3.4. Emply Like Some other array"
      ]
    },
    {
      "cell_type": "code",
      "execution_count": null,
      "id": "8923a9d6",
      "metadata": {
        "id": "8923a9d6",
        "outputId": "80ae702b-1d38-4f94-e371-e7930b973aa0"
      },
      "outputs": [
        {
          "data": {
            "text/plain": [
              "array([[ 90,  96, 102],\n",
              "       [216, 231, 246],\n",
              "       [342, 366, 390]])"
            ]
          },
          "execution_count": 42,
          "metadata": {},
          "output_type": "execute_result"
        }
      ],
      "source": [
        "nparray=np.empty_like(array1)\n",
        "nparray"
      ]
    },
    {
      "cell_type": "markdown",
      "id": "c5037270",
      "metadata": {
        "id": "c5037270"
      },
      "source": [
        "## 3.5. Identity Matrix"
      ]
    },
    {
      "cell_type": "code",
      "execution_count": null,
      "id": "33888c02",
      "metadata": {
        "id": "33888c02",
        "outputId": "18519e3d-eca9-4c2d-90fa-ec512a7d43ae"
      },
      "outputs": [
        {
          "data": {
            "text/plain": [
              "array([[1., 0., 0.],\n",
              "       [0., 1., 0.],\n",
              "       [0., 0., 1.]])"
            ]
          },
          "execution_count": 44,
          "metadata": {},
          "output_type": "execute_result"
        }
      ],
      "source": [
        "nparray=np.identity(3)\n",
        "nparray"
      ]
    },
    {
      "cell_type": "markdown",
      "id": "d915e969",
      "metadata": {
        "id": "d915e969"
      },
      "source": [
        "# 4. Arithmetic and Statistical Operations, Mathematical Operations, Bitwise Operators"
      ]
    },
    {
      "cell_type": "markdown",
      "id": "9dee72d6",
      "metadata": {
        "id": "9dee72d6"
      },
      "source": [
        "## 4.1. Arithmetic Operation"
      ]
    },
    {
      "cell_type": "code",
      "execution_count": null,
      "id": "5dc6e743",
      "metadata": {
        "id": "5dc6e743",
        "outputId": "5b796530-c0f0-4246-9094-b8a192c8fcac"
      },
      "outputs": [
        {
          "name": "stdout",
          "output_type": "stream",
          "text": [
            "[1 2 3 4 5]\n",
            "[11 12 13 14 15]\n"
          ]
        }
      ],
      "source": [
        "array1=np.array([1,2,3,4,5])\n",
        "array2=np.array([11,12,13,14,15])\n",
        "print(array1)\n",
        "print(array2)"
      ]
    },
    {
      "cell_type": "code",
      "execution_count": null,
      "id": "9bdce61b",
      "metadata": {
        "id": "9bdce61b",
        "outputId": "f71bcb04-4499-432b-deb7-86fbf0216f78"
      },
      "outputs": [
        {
          "name": "stdout",
          "output_type": "stream",
          "text": [
            "[12 14 16 18 20]\n",
            "[-10 -10 -10 -10 -10]\n",
            "[11 24 39 56 75]\n",
            "[0.09090909 0.16666667 0.23076923 0.28571429 0.33333333]\n"
          ]
        }
      ],
      "source": [
        "# Addition\n",
        "print(np.add(array1,array2))\n",
        "# Subtraction\n",
        "print(np.subtract(array1,array2))\n",
        "# Multiplication\n",
        "print(np.multiply(array1,array2))\n",
        "# Division\n",
        "print(np.divide(array1,array2))"
      ]
    },
    {
      "cell_type": "markdown",
      "id": "48277c71",
      "metadata": {
        "id": "48277c71"
      },
      "source": [
        "## 4.2. Statistical and Mathematical Operations"
      ]
    },
    {
      "cell_type": "code",
      "execution_count": null,
      "id": "0dd090df",
      "metadata": {
        "id": "0dd090df",
        "outputId": "287cbc80-a82b-46bf-cdb0-206886a38796"
      },
      "outputs": [
        {
          "name": "stdout",
          "output_type": "stream",
          "text": [
            "2.7990553306073913\n",
            "1\n",
            "63\n",
            "6.0\n",
            "5.7272727272727275\n",
            "Most Frequent element= [9]\n",
            "Number of Occarances= [3]\n",
            "7.834710743801653\n"
          ]
        }
      ],
      "source": [
        "array1=np.array([1,2,3,4,5,9,6,7,8,9,9])\n",
        "# Standard Deviation\n",
        "print(np.std(array1))\n",
        "#Minimum\n",
        "print(np.min(array1))\n",
        "#Summation\n",
        "print(np.sum(array1))\n",
        "#Median\n",
        "print(np.median(array1))\n",
        "#Mean\n",
        "print(np.mean(array1))\n",
        "#Mode\n",
        "from scipy import stats\n",
        "print(\"Most Frequent element=\",stats.mode(array1)[0])\n",
        "print(\"Number of Occarances=\",stats.mode(array1)[1])\n",
        "# Variance\n",
        "print(np.var(array1))"
      ]
    },
    {
      "cell_type": "markdown",
      "id": "77e24845",
      "metadata": {
        "id": "77e24845"
      },
      "source": [
        "## 4.3. Bitwise Operations"
      ]
    },
    {
      "cell_type": "code",
      "execution_count": null,
      "id": "2afff7b9",
      "metadata": {
        "id": "2afff7b9",
        "outputId": "41c566b2-8ab3-43a3-f4e7-f4b8fdc46986"
      },
      "outputs": [
        {
          "name": "stdout",
          "output_type": "stream",
          "text": [
            "[0 0 2]\n",
            "[5 7 7]\n",
            "[ 4  8 12]\n",
            "[0 0 0]\n"
          ]
        }
      ],
      "source": [
        "array1=np.array([1,2,3],dtype=np.uint8)\n",
        "array2=np.array([4,5,6])\n",
        "# AND\n",
        "resultarray=np.bitwise_and(array1,array2)\n",
        "print(resultarray)\n",
        "# OR\n",
        "resultarray=np.bitwise_or(array1,array2)\n",
        "print(resultarray)\n",
        "#LeftShift\n",
        "resultarray=np.left_shift(array1,2)\n",
        "print(resultarray)\n",
        "#RightShift\n",
        "resultarray=np.right_shift(array1,2)\n",
        "print(resultarray)"
      ]
    },
    {
      "cell_type": "code",
      "execution_count": null,
      "id": "ac245f5c",
      "metadata": {
        "id": "ac245f5c",
        "outputId": "97ee9959-4d60-4038-f9ad-d44ec8da3b70"
      },
      "outputs": [
        {
          "name": "stdout",
          "output_type": "stream",
          "text": [
            "00001010\n",
            "40\n",
            "00101000\n"
          ]
        }
      ],
      "source": [
        " ### You can get Binary Representation of Number ######\n",
        "print(np.binary_repr(10,8))\n",
        "resultarray=np.left_shift(10,2)\n",
        "print(resultarray)\n",
        "print(np.binary_repr(np.left_shift(10,2),8))"
      ]
    },
    {
      "cell_type": "markdown",
      "id": "dda4bda3",
      "metadata": {
        "id": "dda4bda3"
      },
      "source": [
        "# 5.Copying and viewing arrays"
      ]
    },
    {
      "cell_type": "markdown",
      "id": "fb492fc1",
      "metadata": {
        "id": "fb492fc1"
      },
      "source": [
        "## 5.1 Copy"
      ]
    },
    {
      "cell_type": "code",
      "execution_count": null,
      "id": "66d610a4",
      "metadata": {
        "id": "66d610a4",
        "outputId": "0193150a-fb48-4a87-e010-84a8e799ce96"
      },
      "outputs": [
        {
          "name": "stdout",
          "output_type": "stream",
          "text": [
            "[1 2 3 4 5 6 7 8 9]\n",
            "[1 2 3 4 5 6 7 8 9]\n",
            "[100   2   3   4   5   6   7   8   9]\n",
            "[1 2 3 4 5 6 7 8 9]\n"
          ]
        }
      ],
      "source": [
        "array1=np.arange(1,10)\n",
        "print(array1)\n",
        "newarray=array1.copy()\n",
        "print(newarray)\n",
        "##modification in Original Array\n",
        "array1[0]=100\n",
        "print(array1)\n",
        "print(newarray)"
      ]
    },
    {
      "cell_type": "markdown",
      "id": "7c5be3c5",
      "metadata": {
        "id": "7c5be3c5"
      },
      "source": [
        "# 5.2 View"
      ]
    },
    {
      "cell_type": "code",
      "execution_count": null,
      "id": "21487364",
      "metadata": {
        "id": "21487364",
        "outputId": "3213773a-edc3-4b0a-c4e9-feb5a013152e"
      },
      "outputs": [
        {
          "name": "stdout",
          "output_type": "stream",
          "text": [
            "[1 2 3 4 5 6 7 8 9]\n",
            "[1 2 3 4 5 6 7 8 9]\n",
            "[100   2   3   4   5   6   7   8   9]\n",
            "[100   2   3   4   5   6   7   8   9]\n"
          ]
        }
      ],
      "source": [
        "array1=np.arange(1,10)\n",
        "print(array1)\n",
        "newarray=array1.view()\n",
        "print(newarray)\n",
        "##modification in Original Array\n",
        "array1[0]=100\n",
        "print(array1)\n",
        "print(newarray)"
      ]
    },
    {
      "cell_type": "markdown",
      "id": "edaa4966",
      "metadata": {
        "id": "edaa4966"
      },
      "source": [
        "# 6. Searching"
      ]
    },
    {
      "cell_type": "code",
      "execution_count": null,
      "id": "31ec6b1c",
      "metadata": {
        "id": "31ec6b1c",
        "outputId": "3535de15-2e19-4ec9-c30c-0111238bd3c1"
      },
      "outputs": [
        {
          "name": "stdout",
          "output_type": "stream",
          "text": [
            "[[ 1  2  3 12  5  7]\n",
            " [94  5  6  7 89 44]\n",
            " [ 7  8  9 11 13 14]]\n"
          ]
        }
      ],
      "source": [
        "array1=np.array([[1,2,3,12,5,7],[94,5,6,7,89,44],[7,8,9,11,13,14]])\n",
        "print(array1)"
      ]
    },
    {
      "cell_type": "code",
      "execution_count": null,
      "id": "e46e441a",
      "metadata": {
        "id": "e46e441a",
        "outputId": "8f6245b0-9a8b-4430-e97b-c32c0fda4c66"
      },
      "outputs": [
        {
          "data": {
            "text/plain": [
              "array([[ 1,  2,  3,  7,  5,  7],\n",
              "       [ 7,  5,  6, 11, 13, 14],\n",
              "       [94,  8,  9, 12, 89, 44]])"
            ]
          },
          "execution_count": 105,
          "metadata": {},
          "output_type": "execute_result"
        }
      ],
      "source": [
        "np.sort(array1,axis=0)#Horizontally Sort"
      ]
    },
    {
      "cell_type": "code",
      "execution_count": null,
      "id": "a3c06850",
      "metadata": {
        "id": "a3c06850",
        "outputId": "87e33c70-0900-409a-9b30-e1271bf75be5"
      },
      "outputs": [
        {
          "data": {
            "text/plain": [
              "array([[ 1,  2,  3,  5,  7, 12],\n",
              "       [ 5,  6,  7, 44, 89, 94],\n",
              "       [ 7,  8,  9, 11, 13, 14]])"
            ]
          },
          "execution_count": 107,
          "metadata": {},
          "output_type": "execute_result"
        }
      ],
      "source": [
        "np.sort(array1,axis=1)# Vertically Sort"
      ]
    },
    {
      "cell_type": "markdown",
      "id": "824b57f5",
      "metadata": {
        "id": "824b57f5"
      },
      "source": [
        "# 7. Searching"
      ]
    },
    {
      "cell_type": "code",
      "execution_count": null,
      "id": "9611b959",
      "metadata": {
        "id": "9611b959",
        "outputId": "ce08bcd6-44ff-4691-c49c-af22f89d4eff"
      },
      "outputs": [
        {
          "data": {
            "text/plain": [
              "3"
            ]
          },
          "execution_count": 115,
          "metadata": {},
          "output_type": "execute_result"
        }
      ],
      "source": [
        "array1=np.array([1,2,3,12,5,7])\n",
        "np.searchsorted(array1,7,side=\"left\")#Perform Search After sorting"
      ]
    },
    {
      "cell_type": "markdown",
      "id": "cdc50d5d",
      "metadata": {
        "id": "cdc50d5d"
      },
      "source": [
        "# 8. Counting"
      ]
    },
    {
      "cell_type": "code",
      "execution_count": null,
      "id": "6f937553",
      "metadata": {
        "id": "6f937553",
        "outputId": "628de4fa-2dfc-4608-89f9-3a8b2779dd42"
      },
      "outputs": [
        {
          "name": "stdout",
          "output_type": "stream",
          "text": [
            "6\n",
            "(array([0, 1, 2, 3, 4, 5], dtype=int64),)\n",
            "7\n"
          ]
        }
      ],
      "source": [
        "array1=np.array([1,2,3,12,5,7,0])\n",
        "print(np.count_nonzero(array1))#Return total Non Zero element\n",
        "print(np.nonzero(array1))#Return Index\n",
        "print(array1.size)#Total Element\n"
      ]
    },
    {
      "cell_type": "markdown",
      "id": "36f25d18",
      "metadata": {
        "id": "36f25d18"
      },
      "source": [
        "# 9. Data Stacking"
      ]
    },
    {
      "cell_type": "code",
      "execution_count": null,
      "id": "134b5e73",
      "metadata": {
        "id": "134b5e73",
        "outputId": "01ea6d50-97a4-4e90-d728-bc2021dc5466"
      },
      "outputs": [
        {
          "name": "stdout",
          "output_type": "stream",
          "text": [
            "[[1 2]\n",
            " [3 4]]\n",
            "[[11 12]\n",
            " [13 14]]\n"
          ]
        }
      ],
      "source": [
        "array1=np.array(np.arange(1,5).reshape(2,2))\n",
        "print(array1)\n",
        "array2=np.array(np.arange(11,15).reshape(2,2))\n",
        "print(array2)"
      ]
    },
    {
      "cell_type": "code",
      "execution_count": null,
      "id": "c4db25a6",
      "metadata": {
        "id": "c4db25a6",
        "outputId": "e9acdcbd-847a-4170-b7a0-344352910bee"
      },
      "outputs": [
        {
          "name": "stdout",
          "output_type": "stream",
          "text": [
            "[[[ 1  2]\n",
            "  [ 3  4]]\n",
            "\n",
            " [[11 12]\n",
            "  [13 14]]]\n"
          ]
        }
      ],
      "source": [
        "newarray=np.stack([array1,array2],axis=0)\n",
        "print(newarray)"
      ]
    },
    {
      "cell_type": "code",
      "execution_count": null,
      "id": "96b50293",
      "metadata": {
        "id": "96b50293",
        "outputId": "eef68e48-375f-412b-e0e5-52e21a96761b"
      },
      "outputs": [
        {
          "name": "stdout",
          "output_type": "stream",
          "text": [
            "[[[ 1  2]\n",
            "  [11 12]]\n",
            "\n",
            " [[ 3  4]\n",
            "  [13 14]]]\n"
          ]
        }
      ],
      "source": [
        "newarray=np.stack([array1,array2],axis=1)\n",
        "print(newarray)"
      ]
    },
    {
      "cell_type": "markdown",
      "id": "fa3f5811",
      "metadata": {
        "id": "fa3f5811"
      },
      "source": [
        "# 10. Append"
      ]
    },
    {
      "cell_type": "code",
      "execution_count": null,
      "id": "8a6ae60f",
      "metadata": {
        "id": "8a6ae60f",
        "outputId": "5b7a574f-6274-4c74-a8cb-6fa6f9c1e0b0"
      },
      "outputs": [
        {
          "name": "stdout",
          "output_type": "stream",
          "text": [
            "[[1 2 3]\n",
            " [4 5 6]\n",
            " [7 8 9]]\n",
            "[[21 22 23]\n",
            " [24 25 26]\n",
            " [27 28 29]]\n"
          ]
        }
      ],
      "source": [
        "array1=np.arange(1,10).reshape(3,3)\n",
        "print(array1)\n",
        "array2=np.arange(21,30).reshape(3,3)\n",
        "print(array2)"
      ]
    },
    {
      "cell_type": "code",
      "execution_count": null,
      "id": "cc88f47c",
      "metadata": {
        "id": "cc88f47c",
        "outputId": "ee73fdf9-461c-44d0-c245-2c6b11761890"
      },
      "outputs": [
        {
          "data": {
            "text/plain": [
              "array([[ 1,  2,  3],\n",
              "       [ 4,  5,  6],\n",
              "       [ 7,  8,  9],\n",
              "       [21, 22, 23],\n",
              "       [24, 25, 26],\n",
              "       [27, 28, 29]])"
            ]
          },
          "execution_count": 129,
          "metadata": {},
          "output_type": "execute_result"
        }
      ],
      "source": [
        "np.append(array1,array2,axis=0)"
      ]
    },
    {
      "cell_type": "code",
      "execution_count": null,
      "id": "9abb6366",
      "metadata": {
        "id": "9abb6366",
        "outputId": "3a01c5a4-2c30-4869-8bd0-cda87c23a0f5"
      },
      "outputs": [
        {
          "data": {
            "text/plain": [
              "array([[ 1,  2,  3, 21, 22, 23],\n",
              "       [ 4,  5,  6, 24, 25, 26],\n",
              "       [ 7,  8,  9, 27, 28, 29]])"
            ]
          },
          "execution_count": 130,
          "metadata": {},
          "output_type": "execute_result"
        }
      ],
      "source": [
        "np.append(array1,array2,axis=1)"
      ]
    },
    {
      "cell_type": "markdown",
      "id": "badbea41",
      "metadata": {
        "id": "badbea41"
      },
      "source": [
        "# 11. Concat"
      ]
    },
    {
      "cell_type": "code",
      "execution_count": null,
      "id": "c6029bae",
      "metadata": {
        "id": "c6029bae",
        "outputId": "36c4cd41-e232-4b1c-d51f-c8be7cb71812"
      },
      "outputs": [
        {
          "name": "stdout",
          "output_type": "stream",
          "text": [
            "[[1 2 3]\n",
            " [4 5 6]\n",
            " [7 8 9]]\n",
            "[[21 22 23]\n",
            " [24 25 26]\n",
            " [27 28 29]]\n"
          ]
        }
      ],
      "source": [
        "array1=np.arange(1,10).reshape(3,3)\n",
        "print(array1)\n",
        "array2=np.arange(21,30).reshape(3,3)\n",
        "print(array2)"
      ]
    },
    {
      "cell_type": "code",
      "execution_count": null,
      "id": "7d31165b",
      "metadata": {
        "id": "7d31165b",
        "outputId": "f2de5834-0394-49d1-fbf6-b9480a65aa08"
      },
      "outputs": [
        {
          "data": {
            "text/plain": [
              "array([[ 1,  2,  3],\n",
              "       [ 4,  5,  6],\n",
              "       [ 7,  8,  9],\n",
              "       [21, 22, 23],\n",
              "       [24, 25, 26],\n",
              "       [27, 28, 29]])"
            ]
          },
          "execution_count": 133,
          "metadata": {},
          "output_type": "execute_result"
        }
      ],
      "source": [
        "np.concatenate((array1,array2),axis=0)"
      ]
    },
    {
      "cell_type": "code",
      "execution_count": null,
      "id": "586dc0c8",
      "metadata": {
        "id": "586dc0c8",
        "outputId": "2c888bfa-cc83-4494-c888-4f417613b10c"
      },
      "outputs": [
        {
          "data": {
            "text/plain": [
              "array([[ 1,  2,  3, 21, 22, 23],\n",
              "       [ 4,  5,  6, 24, 25, 26],\n",
              "       [ 7,  8,  9, 27, 28, 29]])"
            ]
          },
          "execution_count": 134,
          "metadata": {},
          "output_type": "execute_result"
        }
      ],
      "source": [
        "np.concatenate((array1,array2),axis=1)"
      ]
    },
    {
      "cell_type": "code",
      "execution_count": null,
      "id": "745751af",
      "metadata": {
        "colab": {
          "base_uri": "https://localhost:8080/"
        },
        "id": "745751af",
        "outputId": "3888f597-7732-4a4e-af62-03e9e07ee23f"
      },
      "outputs": [
        {
          "output_type": "stream",
          "name": "stdout",
          "text": [
            "<class 'numpy.ndarray'>\n"
          ]
        },
        {
          "output_type": "execute_result",
          "data": {
            "text/plain": [
              "(10, 5)"
            ]
          },
          "metadata": {},
          "execution_count": 1
        }
      ],
      "source": [
        "import numpy as np\n",
        "\n",
        "# using loadtxt()\n",
        "arr = np.loadtxt(\"/content/testmarks1.csv\",delimiter=\",\",skiprows=1)\n",
        "print(type(arr))\n",
        "arr.shape"
      ]
    },
    {
      "cell_type": "raw",
      "id": "f3586bc4",
      "metadata": {
        "id": "f3586bc4"
      },
      "source": []
    },
    {
      "cell_type": "code",
      "execution_count": null,
      "id": "c14ae591",
      "metadata": {
        "id": "c14ae591"
      },
      "outputs": [],
      "source": [
        "EDS=arr[:,1]"
      ]
    },
    {
      "cell_type": "code",
      "execution_count": null,
      "id": "6314838a",
      "metadata": {
        "colab": {
          "base_uri": "https://localhost:8080/"
        },
        "id": "6314838a",
        "outputId": "bb22a29b-2a2e-480e-fb7d-610c3161973a"
      },
      "outputs": [
        {
          "output_type": "stream",
          "name": "stdout",
          "text": [
            "[43.05 43.47 42.24 39.24 40.9  39.47 41.68 42.19 44.75 46.95]\n"
          ]
        }
      ],
      "source": [
        "print(EDS)"
      ]
    },
    {
      "cell_type": "code",
      "execution_count": null,
      "id": "f570e360",
      "metadata": {
        "colab": {
          "base_uri": "https://localhost:8080/"
        },
        "id": "f570e360",
        "outputId": "4fcf57bd-a1be-48b5-da82-afcb4b2d435a"
      },
      "outputs": [
        {
          "output_type": "stream",
          "name": "stdout",
          "text": [
            "[27.79 28.52 28.16 26.16 26.03 26.31 25.63 27.61 28.35 28.88]\n"
          ]
        }
      ],
      "source": [
        "SON=arr[:,2]\n",
        "print(SON)"
      ]
    }
  ],
  "metadata": {
    "kernelspec": {
      "display_name": "Python 3 (ipykernel)",
      "language": "python",
      "name": "python3"
    },
    "language_info": {
      "codemirror_mode": {
        "name": "ipython",
        "version": 3
      },
      "file_extension": ".py",
      "mimetype": "text/x-python",
      "name": "python",
      "nbconvert_exporter": "python",
      "pygments_lexer": "ipython3",
      "version": "3.9.7"
    },
    "colab": {
      "provenance": []
    }
  },
  "nbformat": 4,
  "nbformat_minor": 5
}