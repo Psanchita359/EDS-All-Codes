{
  "nbformat": 4,
  "nbformat_minor": 0,
  "metadata": {
    "colab": {
      "provenance": []
    },
    "kernelspec": {
      "name": "python3",
      "display_name": "Python 3"
    },
    "language_info": {
      "name": "python"
    }
  },
  "cells": [
    {
      "cell_type": "code",
      "execution_count": null,
      "metadata": {
        "id": "AKLX6htUcUHn"
      },
      "outputs": [],
      "source": [
        "import csv\n",
        "from collections import Counter\n",
        "from datetime import datetime\n",
        "\n",
        "# Read the CSV file and store the data in a list of dictionaries\n",
        "data = []\n",
        "with open('/content/dataset5.csv', 'r') as csvfile:\n",
        "    reader = csv.DictReader(csvfile)\n",
        "    for row in reader:\n",
        "        data.append(row)"
      ]
    },
    {
      "cell_type": "code",
      "source": [
        "# 1. How many unique fiscal years are present in the CSV file?\n",
        "unique_Fiscal_Year = len(set(row['Fiscal Year'] for row in data))\n",
        "print(\"Number of unique fiscal years:\", unique_Fiscal_Year)"
      ],
      "metadata": {
        "colab": {
          "base_uri": "https://localhost:8080/"
        },
        "id": "XEZS3p2TczGO",
        "outputId": "0d83ca8d-0069-4fd5-ee08-cfd1b8e64f66"
      },
      "execution_count": null,
      "outputs": [
        {
          "output_type": "stream",
          "name": "stdout",
          "text": [
            "Number of unique fiscal years: 2\n"
          ]
        }
      ]
    },
    {
      "cell_type": "code",
      "source": [
        "# 2. Which fiscal quarter has the highest number of entries in the CSV file?\n",
        "fiscal_quarters = [row['Fiscal Quarter'] for row in data]\n",
        "most_common_fiscal_quarter = Counter(fiscal_quarters).most_common(1)[0][0]\n",
        "print(\"Fiscal quarter with the highest number of entries:\", most_common_fiscal_quarter)"
      ],
      "metadata": {
        "colab": {
          "base_uri": "https://localhost:8080/"
        },
        "id": "54aMQARWnNFa",
        "outputId": "37bf3dee-8425-4a86-dc4f-abfa787123d3"
      },
      "execution_count": null,
      "outputs": [
        {
          "output_type": "stream",
          "name": "stdout",
          "text": [
            "Fiscal quarter with the highest number of entries: 3\n"
          ]
        }
      ]
    },
    {
      "cell_type": "code",
      "source": [
        "# 3. What is the average base pay for all employees in the CSV file?\n",
        "base_pay_values = [float(row['Base Pay']) for row in data]\n",
        "average_base_pay = sum(base_pay_values) / len(base_pay_values)\n",
        "print(\"Average base pay for all employees:\", average_base_pay)"
      ],
      "metadata": {
        "colab": {
          "base_uri": "https://localhost:8080/"
        },
        "id": "4esVffRXnNJK",
        "outputId": "42a03e39-48e7-417b-8860-23f234c8c945"
      },
      "execution_count": null,
      "outputs": [
        {
          "output_type": "stream",
          "name": "stdout",
          "text": [
            "Average base pay for all employees: 37710.908399999986\n"
          ]
        }
      ]
    },
    {
      "cell_type": "code",
      "source": [
        "# 4. Which office has the highest total base pay across all fiscal periods?\n",
        "office_base_pay = {}\n",
        "for row in data:\n",
        "    office = row['Office Name']\n",
        "    base_pay = float(row['Base Pay'])\n",
        "    if office in office_base_pay:\n",
        "        office_base_pay[office] += base_pay\n",
        "    else:\n",
        "        office_base_pay[office] = base_pay\n",
        "\n",
        "highest_base_pay_office = max(office_base_pay, key=office_base_pay.get)\n",
        "print(\"Office with the highest total base pay:\", highest_base_pay_office)"
      ],
      "metadata": {
        "colab": {
          "base_uri": "https://localhost:8080/"
        },
        "id": "Axq0hc8fnNMJ",
        "outputId": "06ccebeb-e9de-49b4-cec9-9b1bf9460dcb"
      },
      "execution_count": null,
      "outputs": [
        {
          "output_type": "stream",
          "name": "stdout",
          "text": [
            "Office with the highest total base pay: PROVIDENT HOSPITAL\n"
          ]
        }
      ]
    },
    {
      "cell_type": "code",
      "source": [
        "# 5. How many employees have the job title \"Attending Physician XII\"?\n",
        "manager_count = sum(1 for row in data if row['Job Title'] == 'Attending Physician XII')\n",
        "print(\"Number of employees with job title 'Attending Physician XII':\", manager_count)"
      ],
      "metadata": {
        "colab": {
          "base_uri": "https://localhost:8080/"
        },
        "id": "4glqoBi5nNP7",
        "outputId": "ee58495b-be6a-4fc9-86e4-7cf297c132e6"
      },
      "execution_count": null,
      "outputs": [
        {
          "output_type": "stream",
          "name": "stdout",
          "text": [
            "Number of employees with job title 'Attending Physician XII': 8\n"
          ]
        }
      ]
    },
    {
      "cell_type": "code",
      "source": [
        "# 6. Which employee has the highest base pay?\n",
        "highest_base_pay_employee = max(data, key=lambda x: float(x['Base Pay']))\n",
        "print(\"Employee with the highest base pay:\", highest_base_pay_employee['First Name'], highest_base_pay_employee['Last Name'])"
      ],
      "metadata": {
        "colab": {
          "base_uri": "https://localhost:8080/"
        },
        "id": "PwNogVKYnNTp",
        "outputId": "4dcba473-9e11-41fc-809d-984d8769b0b9"
      },
      "execution_count": null,
      "outputs": [
        {
          "output_type": "stream",
          "name": "stdout",
          "text": [
            "Employee with the highest base pay: SHABIRHUSAIN ABADIN\n"
          ]
        }
      ]
    },
    {
      "cell_type": "code",
      "source": [
        "# 7. How many employees were hired before a specific date (e.g., January 1, 2010)?\n",
        "specific_date = datetime.strptime('01/01/2010', '%m/%d/%Y').date()\n",
        "hired_before_date_count = sum(1 for row in data if datetime.strptime(row['Original Hire Date'], '%m/%d/%Y').date() < specific_date)\n",
        "print(\"Number of employees hired before\", specific_date, \":\", hired_before_date_count)"
      ],
      "metadata": {
        "colab": {
          "base_uri": "https://localhost:8080/"
        },
        "id": "NZCflzUJnNWj",
        "outputId": "f261a41e-ad9b-4033-9563-b76a2862cf1c"
      },
      "execution_count": null,
      "outputs": [
        {
          "output_type": "stream",
          "name": "stdout",
          "text": [
            "Number of employees hired before 2010-01-01 : 13\n"
          ]
        }
      ]
    },
    {
      "cell_type": "code",
      "source": [
        "# 8. What is the total base pay for employees in each bureau?\n",
        "bureau_base_pay = {}\n",
        "for row in data:\n",
        "    bureau = row['Bureau']\n",
        "    base_pay = float(row['Base Pay'])\n",
        "    if bureau in bureau_base_pay:\n",
        "        bureau_base_pay[bureau] += base_pay\n",
        "    else:\n",
        "        bureau_base_pay[bureau] = base_pay\n",
        "\n",
        "print(\"Total base pay for employees in each bureau:\")\n",
        "for bureau, total_base_pay in bureau_base_pay.items():\n",
        "    print(bureau, \":\", total_base_pay)"
      ],
      "metadata": {
        "colab": {
          "base_uri": "https://localhost:8080/"
        },
        "id": "5w3AWeUjpW-S",
        "outputId": "6b7de605-aff8-421f-c7d3-3426b77d1ad6"
      },
      "execution_count": null,
      "outputs": [
        {
          "output_type": "stream",
          "name": "stdout",
          "text": [
            "Total base pay for employees in each bureau:\n",
            "State's Attorney : 64741.35\n",
            "Assessor : 80058.82\n",
            "Bureau of Health : 768594.14\n",
            "Bureau of Human Resources : 29378.4\n"
          ]
        }
      ]
    },
    {
      "cell_type": "code",
      "source": [
        "# 9. What is the maximum base pay in the CSV file?\n",
        "max_base_pay = 0\n",
        "\n",
        "base_pay = float(row['Base Pay'])\n",
        "if base_pay > max_base_pay:\n",
        "  max_base_pay = base_pay\n",
        "\n",
        "print(f\"Maximum base pay: {max_base_pay}\")\n"
      ],
      "metadata": {
        "colab": {
          "base_uri": "https://localhost:8080/"
        },
        "id": "X7gDsBTdpjcz",
        "outputId": "404acbdf-17fb-4324-bd23-130dc541fe87"
      },
      "execution_count": null,
      "outputs": [
        {
          "output_type": "stream",
          "name": "stdout",
          "text": [
            "Maximum base pay: 15769.24\n"
          ]
        }
      ]
    },
    {
      "cell_type": "code",
      "source": [
        "# 10.How many unique fiscal quarters are there in the CSV file?\n",
        "unique_quarters = set()\n",
        "unique_quarters.add(row['Fiscal Quarter'])\n",
        "\n",
        "num_unique_quarters = len(unique_quarters)\n",
        "print(f\"Number of unique fiscal quarters: {num_unique_quarters}\")\n"
      ],
      "metadata": {
        "colab": {
          "base_uri": "https://localhost:8080/"
        },
        "id": "HWHt6cf-qltQ",
        "outputId": "0170b0cb-bd3a-41e7-b4d9-b480a0584ba8"
      },
      "execution_count": null,
      "outputs": [
        {
          "output_type": "stream",
          "name": "stdout",
          "text": [
            "Number of unique fiscal quarters: 1\n"
          ]
        }
      ]
    }
  ]
}