{
  "cells": [
    {
      "cell_type": "markdown",
      "metadata": {
        "id": "TVbdUnSHNsyM"
      },
      "source": [
        "# Assignment 2\n",
        "A list is a sequence of values (similar to an array in other programming languages but more versatile)\n",
        "\n",
        "The values in a list are called items or sometimes elements.\n",
        "\n",
        "The important properties of Python lists are as follows:\n",
        "\n",
        "Lists are ordered – Lists remember the order of items inserted.\n",
        "Accessed by index – Items in a list can be accessed using an index.\n",
        "Lists can contain any sort of object – It can be numbers, strings, tuples and even other lists.\n",
        "Lists are changeable (mutable) – You can change a list in-place, add new items, and delete or update existing items.A list is a sequence of values (similar to an array in other programming languages but more versatile)\n",
        "\n",
        "The values in a list are called items or sometimes elements.\n",
        "\n",
        "The important properties of Python lists are as follows:\n",
        "\n",
        "Lists are ordered – Lists remember the order of items inserted.\n",
        "Accessed by index – Items in a list can be accessed using an index.\n",
        "Lists can contain any sort of object – It can be numbers, strings, tuples and even other lists.\n",
        "Lists are changeable (mutable) – You can change a list in-place, add new items, and delete or update existing items."
      ]
    },
    {
      "cell_type": "markdown",
      "metadata": {
        "id": "q1qNhndANsyO"
      },
      "source": [
        "List Operations"
      ]
    },
    {
      "cell_type": "markdown",
      "metadata": {
        "id": "M0zwffDTNsyP"
      },
      "source": [
        "# Create a List"
      ]
    },
    {
      "cell_type": "code",
      "execution_count": null,
      "metadata": {
        "id": "eVwfnWw3NsyP"
      },
      "outputs": [],
      "source": [
        "# A list of integers\n",
        "L = [1, 2, 3]\n",
        "\n",
        "# A list of strings\n",
        "L = ['red', 'green', 'blue']\n",
        "# A list of mixed datatypes\n",
        "L = [ 1, 'abc', 1.23, (3+4j), True]\n",
        "# An empty list\n",
        "L = []\n"
      ]
    },
    {
      "cell_type": "markdown",
      "metadata": {
        "id": "zXGAyLrlNsyQ"
      },
      "source": []
    },
    {
      "cell_type": "markdown",
      "metadata": {
        "id": "CzhaTru9NsyQ"
      },
      "source": [
        "# The list() Constructor"
      ]
    },
    {
      "cell_type": "code",
      "execution_count": null,
      "metadata": {
        "id": "Q3jwJ3zpNsyQ",
        "outputId": "783e0b69-6e0d-4858-d3ed-750910d40e0e"
      },
      "outputs": [
        {
          "name": "stdout",
          "output_type": "stream",
          "text": [
            "['a', 'b', 'c']\n",
            "[1, 2, 3]\n"
          ]
        }
      ],
      "source": [
        "# Convert a string to a list\n",
        "L = list('abc')\n",
        "print(L)\n",
        "# Prints ['a', 'b', 'c']\n",
        "# Convert a tuple to a list\n",
        "L = list((1, 2, 3))\n",
        "print(L)\n",
        "# Prints [1, 2, 3]"
      ]
    },
    {
      "cell_type": "markdown",
      "metadata": {
        "id": "jf146xVcNsyR"
      },
      "source": [
        "# Nested List"
      ]
    },
    {
      "cell_type": "code",
      "execution_count": null,
      "metadata": {
        "id": "bZrBL9wgNsyR"
      },
      "outputs": [],
      "source": [
        "L = ['a', ['bb', ['ccc', 'ddd'], 'ee', 'ff'], 'g', 'h']"
      ]
    },
    {
      "cell_type": "markdown",
      "metadata": {
        "id": "IWWl9kv1NsyS"
      },
      "source": [
        "# Access List Items by Index"
      ]
    },
    {
      "cell_type": "code",
      "execution_count": null,
      "metadata": {
        "id": "6f8HwSLZNsyS",
        "outputId": "21dffc39-f60c-46b9-a8b2-b51211e47f45"
      },
      "outputs": [
        {
          "name": "stdout",
          "output_type": "stream",
          "text": [
            "red\n",
            "blue\n"
          ]
        }
      ],
      "source": [
        "L = ['red', 'green', 'blue', 'yellow', 'black']\n",
        "\n",
        "print(L[0])\n",
        "# Prints red\n",
        "\n",
        "print(L[2])\n",
        "# Prints blue"
      ]
    },
    {
      "cell_type": "markdown",
      "metadata": {
        "id": "eRkOZasTNsyS"
      },
      "source": [
        "# Negative List Indexing"
      ]
    },
    {
      "cell_type": "code",
      "execution_count": null,
      "metadata": {
        "id": "vvaLXbf4NsyT",
        "outputId": "23c7f8ac-7b5b-4217-84e3-ae630f0b5fbe"
      },
      "outputs": [
        {
          "name": "stdout",
          "output_type": "stream",
          "text": [
            "black\n",
            "yellow\n"
          ]
        }
      ],
      "source": [
        "L = ['red', 'green', 'blue', 'yellow', 'black']\n",
        "\n",
        "print(L[-1])\n",
        "# Prints black\n",
        "\n",
        "print(L[-2])\n",
        "# Prints yellow"
      ]
    },
    {
      "cell_type": "code",
      "execution_count": null,
      "metadata": {
        "id": "98EgUJMENsyT",
        "outputId": "29cbea8c-5876-481a-d0f2-3d8dcb785060"
      },
      "outputs": [
        {
          "name": "stdout",
          "output_type": "stream",
          "text": [
            "['eee', 'fff']\n",
            "eee\n"
          ]
        }
      ],
      "source": [
        "L = ['a', 'b', ['cc', 'dd', ['eee', 'fff']], 'g', 'h']\n",
        "\n",
        "print(L[2][2])\n",
        "# Prints ['eee', 'fff']\n",
        "\n",
        "print(L[2][2][0])\n",
        "# Prints eee"
      ]
    },
    {
      "cell_type": "markdown",
      "metadata": {
        "id": "VtzRRYEJNsyT"
      },
      "source": [
        "# Slicing a List"
      ]
    },
    {
      "cell_type": "code",
      "execution_count": null,
      "metadata": {
        "id": "NrkF1UYSNsyT",
        "outputId": "eca2a69b-a8f2-4a76-cf42-015fe2e00784"
      },
      "outputs": [
        {
          "name": "stdout",
          "output_type": "stream",
          "text": [
            "['c', 'd', 'e']\n",
            "['a', 'b']\n",
            "['d', 'e']\n"
          ]
        }
      ],
      "source": [
        "L = ['a', 'b', 'c', 'd', 'e', 'f']\n",
        "\n",
        "print(L[2:5])\n",
        "# Prints ['c', 'd', 'e']\n",
        "\n",
        "print(L[0:2])\n",
        "# Prints ['a', 'b']\n",
        "\n",
        "print(L[3:-1])\n",
        "# Prints ['d', 'e']"
      ]
    },
    {
      "cell_type": "markdown",
      "metadata": {
        "id": "xU4GukKBNsyU"
      },
      "source": [
        "# Change Item Value"
      ]
    },
    {
      "cell_type": "code",
      "execution_count": null,
      "metadata": {
        "id": "BPaMvQeZNsyU",
        "outputId": "faeefb30-b511-4d6e-80c0-45ceeeaaea7c"
      },
      "outputs": [
        {
          "name": "stdout",
          "output_type": "stream",
          "text": [
            "['orange', 'green', 'blue']\n",
            "['orange', 'green', 'violet']\n"
          ]
        }
      ],
      "source": [
        "L = ['red', 'green', 'blue']\n",
        "\n",
        "L[0] = 'orange'\n",
        "print(L)\n",
        "# Prints ['orange', 'green', 'blue']\n",
        "\n",
        "L[-1] = 'violet'\n",
        "print(L)\n",
        "# Prints ['orange', 'green', 'violet']"
      ]
    },
    {
      "cell_type": "markdown",
      "metadata": {
        "id": "P95WiACMNsyU"
      },
      "source": [
        "# Add items to a list"
      ]
    },
    {
      "cell_type": "code",
      "execution_count": null,
      "metadata": {
        "id": "CxYVGQHmNsyU",
        "outputId": "f0035f1a-99fd-4ac6-aa96-cebfec39f43d"
      },
      "outputs": [
        {
          "name": "stdout",
          "output_type": "stream",
          "text": [
            "['red', 'green', 'yellow', 'blue']\n",
            "['red', 'blue', 'green', 'yellow']\n"
          ]
        }
      ],
      "source": [
        "L = ['red', 'green', 'yellow']\n",
        "L.append('blue')\n",
        "print(L)\n",
        "# Prints ['red', 'green', 'yellow', 'blue']\n",
        "L = ['red', 'green', 'yellow']\n",
        "L.insert(1,'blue')\n",
        "print(L)\n",
        "# Prints ['red', 'blue', 'green', 'yellow']"
      ]
    },
    {
      "cell_type": "markdown",
      "metadata": {
        "id": "vKPEH8PvNsyV"
      },
      "source": [
        "# Combine Lists"
      ]
    },
    {
      "cell_type": "code",
      "execution_count": null,
      "metadata": {
        "id": "qxpbfyikNsyV",
        "outputId": "e9db1dda-534c-4a3e-fc93-6a193ff0ba04"
      },
      "outputs": [
        {
          "name": "stdout",
          "output_type": "stream",
          "text": [
            "['red', 'green', 'yellow', 1, 2, 3]\n"
          ]
        }
      ],
      "source": [
        "L = ['red', 'green', 'yellow']\n",
        "L.extend([1,2,3])\n",
        "print(L)\n",
        "# Prints ['red', 'green', 'yellow', 1, 2, 3]"
      ]
    },
    {
      "cell_type": "code",
      "execution_count": null,
      "metadata": {
        "id": "aUsUr5YXNsyV",
        "outputId": "a49a8dec-9579-461d-eada-9af81ffdc084"
      },
      "outputs": [
        {
          "name": "stdout",
          "output_type": "stream",
          "text": [
            "['red', 'green', 'blue', 1, 2, 3]\n",
            "['red', 'green', 'blue', 1, 2, 3]\n"
          ]
        }
      ],
      "source": [
        "# concatenation operator\n",
        "L = ['red', 'green', 'blue']\n",
        "L = L + [1,2,3]\n",
        "print(L)\n",
        "# Prints ['red', 'green', 'blue', 1, 2, 3]\n",
        "\n",
        "# augmented assignment operator\n",
        "L = ['red', 'green', 'blue']\n",
        "L += [1,2,3]\n",
        "print(L)\n",
        "# Prints ['red', 'green', 'blue', 1, 2, 3]\n"
      ]
    },
    {
      "cell_type": "markdown",
      "metadata": {
        "id": "MN4LGbc4NsyV"
      },
      "source": [
        "# Remove items from a list"
      ]
    },
    {
      "cell_type": "code",
      "execution_count": null,
      "metadata": {
        "id": "MjBuBye7NsyW",
        "outputId": "12777457-42f0-4104-e37b-fa4f54a64c75"
      },
      "outputs": [
        {
          "name": "stdout",
          "output_type": "stream",
          "text": [
            "['red', 'blue']\n",
            "green\n"
          ]
        }
      ],
      "source": [
        "L = ['red', 'green', 'blue']\n",
        "x = L.pop(1)\n",
        "print(L)\n",
        "# Prints ['red', 'blue']\n",
        "\n",
        "# removed item\n",
        "print(x)\n",
        "# Prints green"
      ]
    },
    {
      "cell_type": "markdown",
      "metadata": {
        "id": "qtyrN0fYNsyW"
      },
      "source": [
        "# Check if item exists in a list"
      ]
    },
    {
      "cell_type": "code",
      "execution_count": null,
      "metadata": {
        "id": "_oKd4WLRNsyW",
        "outputId": "f2b39930-bbf7-4a2d-d296-103c1f44feb8"
      },
      "outputs": [
        {
          "name": "stdout",
          "output_type": "stream",
          "text": [
            "yes\n",
            "yes\n"
          ]
        }
      ],
      "source": [
        "# Check for presence\n",
        "L = ['red', 'green', 'blue']\n",
        "if 'red' in L:\n",
        "    print('yes')\n",
        "\n",
        "# Check for absence\n",
        "L = ['red', 'green', 'blue']\n",
        "if 'yellow' not in L:\n",
        "    print('yes')"
      ]
    },
    {
      "cell_type": "markdown",
      "metadata": {
        "id": "npSbG4t0NsyW"
      },
      "source": [
        "# Iterate through a List"
      ]
    },
    {
      "cell_type": "code",
      "execution_count": null,
      "metadata": {
        "id": "tjDfwJbNNsyW",
        "outputId": "4c3aa0ff-79cf-43e2-e42a-c0251c988a7c"
      },
      "outputs": [
        {
          "name": "stdout",
          "output_type": "stream",
          "text": [
            "red\n",
            "green\n",
            "blue\n"
          ]
        }
      ],
      "source": [
        "L = ['red', 'green', 'blue']\n",
        "for item in L:\n",
        "    print(item)\n",
        "# Prints red\n",
        "# Prints green\n",
        "# Prints blue"
      ]
    },
    {
      "cell_type": "code",
      "execution_count": null,
      "metadata": {
        "id": "-Psdxn0yNsyX"
      },
      "outputs": [],
      "source": []
    },
    {
      "cell_type": "code",
      "execution_count": null,
      "metadata": {
        "id": "TEYC6PieNsyX"
      },
      "outputs": [],
      "source": []
    }
  ],
  "metadata": {
    "kernelspec": {
      "display_name": "Python 3",
      "language": "python",
      "name": "python3"
    },
    "language_info": {
      "codemirror_mode": {
        "name": "ipython",
        "version": 3
      },
      "file_extension": ".py",
      "mimetype": "text/x-python",
      "name": "python",
      "nbconvert_exporter": "python",
      "pygments_lexer": "ipython3",
      "version": "3.7.6"
    },
    "colab": {
      "provenance": []
    }
  },
  "nbformat": 4,
  "nbformat_minor": 0
}